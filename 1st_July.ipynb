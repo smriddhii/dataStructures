{
  "nbformat": 4,
  "nbformat_minor": 0,
  "metadata": {
    "colab": {
      "provenance": [],
      "authorship_tag": "ABX9TyOW9qpWOLgJCbtVl+ONoK2n",
      "include_colab_link": true
    },
    "kernelspec": {
      "name": "python3",
      "display_name": "Python 3"
    },
    "language_info": {
      "name": "python"
    }
  },
  "cells": [
    {
      "cell_type": "markdown",
      "metadata": {
        "id": "view-in-github",
        "colab_type": "text"
      },
      "source": [
        "<a href=\"https://colab.research.google.com/github/smriddhii/dataStructures/blob/main/1st_July.ipynb\" target=\"_parent\"><img src=\"https://colab.research.google.com/assets/colab-badge.svg\" alt=\"Open In Colab\"/></a>"
      ]
    },
    {
      "cell_type": "code",
      "execution_count": 2,
      "metadata": {
        "id": "VBXl-ZGVAEnV"
      },
      "outputs": [],
      "source": [
        "# plus one\n",
        "def plusOne(digits):\n",
        "        str1 = ''.join(map(str, digits))\n",
        "        num = int(str1)\n",
        "        num = num + 1\n",
        "        res = []\n",
        "        while num > 0:\n",
        "            num, remainder = divmod(num, 10)\n",
        "            res.insert(0,remainder)\n",
        "        return res"
      ]
    },
    {
      "cell_type": "code",
      "source": [
        "# pallindrome number\n",
        "\n",
        "def isPalindrome(x):\n",
        "        if x< 0:\n",
        "            return False\n",
        "\n",
        "        reversed_num = 0\n",
        "        temp = x\n",
        "\n",
        "        while temp != 0:\n",
        "            digit = temp % 10\n",
        "            reversed_num = reversed_num * 10 + digit\n",
        "            temp //= 10\n",
        "\n",
        "        return reversed_num == x\n"
      ],
      "metadata": {
        "id": "JqrUzq8hAU4b"
      },
      "execution_count": 3,
      "outputs": []
    },
    {
      "cell_type": "code",
      "source": [
        "# remove duplicates 2-\n",
        "\n",
        "def removeDuplicates(nums):\n",
        "        count = 1\n",
        "        l = 1\n",
        "        for i in range(1, len(nums)):\n",
        "            if nums[i] == nums[i - 1]:\n",
        "                count += 1\n",
        "            else:\n",
        "                count = 1\n",
        "            if count <= 2:\n",
        "                nums[l] = nums[i]\n",
        "                l += 1\n",
        "        return l"
      ],
      "metadata": {
        "id": "1FBq78knAhTF"
      },
      "execution_count": 4,
      "outputs": []
    },
    {
      "cell_type": "code",
      "source": [
        "# rotate array by k steps-\n",
        "\n",
        "def rotate(nums, k):\n",
        "        \"\"\"\n",
        "        Do not return anything, modify nums in-place instead.\n",
        "        \"\"\"\n",
        "        for i in range(k):\n",
        "            a=nums.pop()\n",
        "            nums.insert(0,a)"
      ],
      "metadata": {
        "id": "pA1Gr22NBzaM"
      },
      "execution_count": 5,
      "outputs": []
    },
    {
      "cell_type": "code",
      "source": [
        "# jump game-\n",
        "\n",
        "def canJump(nums):\n",
        "        goal = len(nums) - 1\n",
        "        for i in range(len(nums))[::-1]: #4,3,2,1,0\n",
        "            if i + nums[i] >= goal:\n",
        "                goal = i\n",
        "        return not goal"
      ],
      "metadata": {
        "id": "FOgOG3WPD9OX"
      },
      "execution_count": 6,
      "outputs": []
    },
    {
      "cell_type": "code",
      "source": [],
      "metadata": {
        "id": "pV_5-Y64EhzE"
      },
      "execution_count": null,
      "outputs": []
    }
  ]
}