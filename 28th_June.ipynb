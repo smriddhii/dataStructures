{
  "cells": [
    {
      "cell_type": "markdown",
      "metadata": {
        "id": "view-in-github",
        "colab_type": "text"
      },
      "source": [
        "<a href=\"https://colab.research.google.com/github/smriddhii/dataStructures/blob/main/28th_June.ipynb\" target=\"_parent\"><img src=\"https://colab.research.google.com/assets/colab-badge.svg\" alt=\"Open In Colab\"/></a>"
      ]
    },
    {
      "cell_type": "code",
      "source": [
        "def kthlargest(arr, k):\n",
        "  new = sorted(arr)\n",
        "  return new[-k]\n",
        "\n",
        "kthlargest([10,5,7,9,20], 2)"
      ],
      "metadata": {
        "id": "wlt4xIa1vzgc",
        "outputId": "85eef2fa-db13-41c6-e1bb-9a9365e1ed2b",
        "colab": {
          "base_uri": "https://localhost:8080/"
        }
      },
      "execution_count": null,
      "outputs": [
        {
          "output_type": "execute_result",
          "data": {
            "text/plain": [
              "10"
            ]
          },
          "metadata": {},
          "execution_count": 1
        }
      ]
    },
    {
      "cell_type": "code",
      "source": [
        "\n",
        "def sort012(arr,n):\n",
        "        # code here\n",
        "        count0 = 0\n",
        "        count1 = 0\n",
        "        for i in range(n):\n",
        "            if arr[i] == 0:\n",
        "                count0 = count0 + 1\n",
        "\n",
        "            elif arr[i] == 1:\n",
        "                count1 = count1 + 1\n",
        "\n",
        "        for i in range(0, count0):\n",
        "            arr[i] == 0\n",
        "\n",
        "        for i in range(count0,count1):\n",
        "            arr[i] == 1\n",
        "\n",
        "        for i in range(count1, n):\n",
        "            arr[i] == 2\n",
        "\n",
        "        return arr\n",
        "\n",
        "sort012([1, 2, 0, 0, 1, 2], 6)"
      ],
      "metadata": {
        "id": "sErO9CXdJP8B",
        "outputId": "e1e73312-667a-40e2-e41a-5d95a670171f",
        "colab": {
          "base_uri": "https://localhost:8080/"
        }
      },
      "execution_count": null,
      "outputs": [
        {
          "output_type": "execute_result",
          "data": {
            "text/plain": [
              "[1, 2, 0, 0, 1, 2]"
            ]
          },
          "metadata": {},
          "execution_count": 6
        }
      ]
    },
    {
      "cell_type": "code",
      "source": [
        "# segregate positive and negative\n",
        "\n",
        "def segregate(arr):\n",
        "  n = len(arr)\n",
        "  ne =[]\n",
        "  po =[]\n",
        "  for i in range(n):\n",
        "    if arr[i] < 0:\n",
        "      ne.append(arr[i])\n",
        "    else:\n",
        "      po.append(arr[i])\n",
        "\n",
        "  arr.clear()\n",
        "  arr.extend(po + ne)\n",
        "  return arr\n",
        "\n",
        "segregate([-5, 7, -3, -4, 9, 10, -1, 11])"
      ],
      "metadata": {
        "id": "3zjqTqYjKhUT",
        "outputId": "bc3460f7-3ad5-4b14-a63d-2f9dce4a08d0",
        "colab": {
          "base_uri": "https://localhost:8080/"
        }
      },
      "execution_count": null,
      "outputs": [
        {
          "output_type": "execute_result",
          "data": {
            "text/plain": [
              "[7, 9, 10, 11, -5, -3, -4, -1]"
            ]
          },
          "metadata": {},
          "execution_count": 8
        }
      ]
    },
    {
      "cell_type": "code",
      "source": [
        "# union and intersection of lists\n",
        "def doUnion(a,b):\n",
        "\n",
        "        a1 = set(a)\n",
        "        b1 = set(b)\n",
        "\n",
        "        res = a1 | b1\n",
        "        res1 = list(res)\n",
        "        return res1.count\n",
        "\n",
        "doUnion([1,2,3,4,5], [1,2,3])"
      ],
      "metadata": {
        "id": "vEI2_sGOTYvk",
        "outputId": "afe050b3-3b4c-4425-9411-1af0df4588b3",
        "colab": {
          "base_uri": "https://localhost:8080/"
        }
      },
      "execution_count": null,
      "outputs": [
        {
          "output_type": "execute_result",
          "data": {
            "text/plain": [
              "<function list.count(value, /)>"
            ]
          },
          "metadata": {},
          "execution_count": 9
        }
      ]
    },
    {
      "cell_type": "code",
      "source": [
        "def rotate(arr, n):\n",
        "  n = len(arr)\n",
        "  x = arr[n - 1]\n",
        "\n",
        "  for i in range(n - 1, 0, -1):\n",
        "      arr[i] = arr[i - 1];\n",
        "\n",
        "  arr[0] = x;\n",
        "  return arr\n",
        "\n",
        "rotate([1, 2, 3, 4, 5], 5)"
      ],
      "metadata": {
        "id": "l456L0mKWKf7",
        "colab": {
          "base_uri": "https://localhost:8080/"
        },
        "outputId": "9cfdfaee-fbb3-4e72-a02f-099894213b0d"
      },
      "execution_count": 5,
      "outputs": [
        {
          "output_type": "execute_result",
          "data": {
            "text/plain": [
              "[5, 1, 2, 3, 4]"
            ]
          },
          "metadata": {},
          "execution_count": 5
        }
      ]
    },
    {
      "cell_type": "code",
      "source": [],
      "metadata": {
        "id": "6Yh9Zj_kX1l8"
      },
      "execution_count": null,
      "outputs": []
    }
  ],
  "metadata": {
    "colab": {
      "provenance": [],
      "authorship_tag": "ABX9TyPsSCj5Mbe25fxlMtjDOciA",
      "include_colab_link": true
    },
    "kernelspec": {
      "display_name": "Python 3",
      "name": "python3"
    },
    "language_info": {
      "name": "python"
    }
  },
  "nbformat": 4,
  "nbformat_minor": 0
}