{
  "nbformat": 4,
  "nbformat_minor": 0,
  "metadata": {
    "colab": {
      "provenance": [],
      "authorship_tag": "ABX9TyPrjP9B1NzzoL4AvDrzT30d",
      "include_colab_link": true
    },
    "kernelspec": {
      "name": "python3",
      "display_name": "Python 3"
    },
    "language_info": {
      "name": "python"
    }
  },
  "cells": [
    {
      "cell_type": "markdown",
      "metadata": {
        "id": "view-in-github",
        "colab_type": "text"
      },
      "source": [
        "<a href=\"https://colab.research.google.com/github/smriddhii/dataStructures/blob/main/29th_June.ipynb\" target=\"_parent\"><img src=\"https://colab.research.google.com/assets/colab-badge.svg\" alt=\"Open In Colab\"/></a>"
      ]
    },
    {
      "cell_type": "code",
      "execution_count": null,
      "metadata": {
        "id": "Gfbjz95AMik7"
      },
      "outputs": [],
      "source": [
        "#find median of a data center-\n",
        "\n",
        "from sortedcontainers import SortedList\n",
        "class MedianFinder:\n",
        "\n",
        "    def __init__(self):\n",
        "        self.arr=SortedList([])\n",
        "\n",
        "    def addNum(self, num: int) -> None:\n",
        "        self.arr.add(num)\n",
        "\n",
        "    def findMedian(self) -> float:\n",
        "        n=len(self.arr)\n",
        "        if(n%2==0):\n",
        "            return(self.arr[n//2]+self.arr[n//2-1])/2\n",
        "        else:\n",
        "            return(self.arr[n//2])\n"
      ]
    },
    {
      "cell_type": "code",
      "source": [
        "# best time to buy and sell stock-\n",
        "\n",
        "def maxProfit(self, prices: List[int]) -> int:\n",
        "    mn = prices[0]\n",
        "    mx = 0\n",
        "\n",
        "    for p in prices:\n",
        "        if p < mn:\n",
        "            mn = p\n",
        "        elif p > mx + mn:\n",
        "            mx = p - mn\n",
        "    return mx"
      ],
      "metadata": {
        "id": "Osng0zwvMyhz"
      },
      "execution_count": null,
      "outputs": []
    },
    {
      "cell_type": "code",
      "source": [
        "# move zeroes to the end-\n",
        "def moveZeroes(self, nums: List[int]) -> None:\n",
        "        zeroes = []\n",
        "        nums1 = []\n",
        "        n = len(nums)\n",
        "        for i in range(n):\n",
        "            if nums[i] == 0:\n",
        "                zeroes.append(nums[i])\n",
        "            else:\n",
        "                nums1.append(nums[i])\n",
        "        nums.clear()\n",
        "        nums.extend(nums1 + zeroes)"
      ],
      "metadata": {
        "id": "zDk6X2tebhS1"
      },
      "execution_count": null,
      "outputs": []
    },
    {
      "cell_type": "code",
      "source": [
        "# find the pivot index-\n",
        "def pivotIndex(self, nums: List[int]) -> int:\n",
        "        leftsum = 0\n",
        "        rightsum = sum(nums)\n",
        "        n = len(nums)\n",
        "        for i in range(n):\n",
        "            if leftsum == rightsum - leftsum - nums[i]:\n",
        "                return i\n",
        "            leftsum += nums[i]\n",
        "        return -1"
      ],
      "metadata": {
        "id": "0FIPBR0FbxO8"
      },
      "execution_count": null,
      "outputs": []
    },
    {
      "cell_type": "code",
      "source": [
        "# fibonnacci sequence-\n",
        "def fib(self, n: int) -> int:\n",
        "        if n == 0:\n",
        "            return 0\n",
        "        elif n == 1:\n",
        "            return 1\n",
        "        else:\n",
        "            return self.fib(n-1) + self.fib(n-2)"
      ],
      "metadata": {
        "id": "WTa7fCQecxhM"
      },
      "execution_count": null,
      "outputs": []
    }
  ]
}