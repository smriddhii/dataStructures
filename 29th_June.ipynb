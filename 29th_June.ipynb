{
  "nbformat": 4,
  "nbformat_minor": 0,
  "metadata": {
    "colab": {
      "provenance": [],
      "authorship_tag": "ABX9TyPj9vfudW/GI9XglM9rlKia",
      "include_colab_link": true
    },
    "kernelspec": {
      "name": "python3",
      "display_name": "Python 3"
    },
    "language_info": {
      "name": "python"
    }
  },
  "cells": [
    {
      "cell_type": "markdown",
      "metadata": {
        "id": "view-in-github",
        "colab_type": "text"
      },
      "source": [
        "<a href=\"https://colab.research.google.com/github/smriddhii/dataStructures/blob/main/29th_June.ipynb\" target=\"_parent\"><img src=\"https://colab.research.google.com/assets/colab-badge.svg\" alt=\"Open In Colab\"/></a>"
      ]
    },
    {
      "cell_type": "code",
      "execution_count": null,
      "metadata": {
        "id": "Gfbjz95AMik7"
      },
      "outputs": [],
      "source": [
        "#find median of a data center\n",
        "\n",
        "from sortedcontainers import SortedList\n",
        "class MedianFinder:\n",
        "\n",
        "    def __init__(self):\n",
        "        self.arr=SortedList([])\n",
        "\n",
        "    def addNum(self, num: int) -> None:\n",
        "        self.arr.add(num)\n",
        "\n",
        "    def findMedian(self) -> float:\n",
        "        n=len(self.arr)\n",
        "        if(n%2==0):\n",
        "            return(self.arr[n//2]+self.arr[n//2-1])/2\n",
        "        else:\n",
        "            return(self.arr[n//2])\n"
      ]
    },
    {
      "cell_type": "code",
      "source": [
        "# best time to buy and sell stock\n",
        "def maxProfit(self, prices: List[int]) -> int:\n",
        "    mn = prices[0]\n",
        "    mx = 0\n",
        "\n",
        "    for p in prices:\n",
        "        if p < mn:\n",
        "            mn = p\n",
        "        elif p > mx + mn:\n",
        "            mx = p - mn\n",
        "    return mx"
      ],
      "metadata": {
        "id": "Osng0zwvMyhz"
      },
      "execution_count": null,
      "outputs": []
    }
  ]
}