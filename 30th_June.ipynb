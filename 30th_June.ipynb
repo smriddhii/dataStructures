{
  "nbformat": 4,
  "nbformat_minor": 0,
  "metadata": {
    "colab": {
      "provenance": [],
      "authorship_tag": "ABX9TyNbua9x7NWuUny2uODqfPuT",
      "include_colab_link": true
    },
    "kernelspec": {
      "name": "python3",
      "display_name": "Python 3"
    },
    "language_info": {
      "name": "python"
    }
  },
  "cells": [
    {
      "cell_type": "markdown",
      "metadata": {
        "id": "view-in-github",
        "colab_type": "text"
      },
      "source": [
        "<a href=\"https://colab.research.google.com/github/smriddhii/dataStructures/blob/main/30th_June.ipynb\" target=\"_parent\"><img src=\"https://colab.research.google.com/assets/colab-badge.svg\" alt=\"Open In Colab\"/></a>"
      ]
    },
    {
      "cell_type": "code",
      "execution_count": 1,
      "metadata": {
        "id": "yEI-LejRmX9e"
      },
      "outputs": [],
      "source": [
        "# running sum in array-\n",
        "\n",
        "def runningSum(nums):\n",
        "        sums = 0\n",
        "        arr = []\n",
        "        for i in nums:\n",
        "            sums += i\n",
        "            arr.append(sums)\n",
        "        return arr"
      ]
    },
    {
      "cell_type": "code",
      "source": [
        "# majority element-\n",
        "\n",
        "def majorityElement(nums):\n",
        "        count = 0\n",
        "        candidate = 0\n",
        "\n",
        "        for i in nums:\n",
        "            if count == 0:\n",
        "                candidate = i\n",
        "\n",
        "            if i == candidate:\n",
        "                count += 1\n",
        "\n",
        "            else:\n",
        "                count -= 1\n",
        "\n",
        "        return candidate"
      ],
      "metadata": {
        "id": "-tc8IVylminn"
      },
      "execution_count": 3,
      "outputs": []
    },
    {
      "cell_type": "code",
      "source": [
        "# sqaures of an array-\n",
        "def sortedSquares(self, nums):\n",
        "        squares = []\n",
        "        for i in nums:\n",
        "            squares.append(i*i)\n",
        "        squares.sort()\n",
        "        return squares"
      ],
      "metadata": {
        "id": "J45gQo0HpKRa"
      },
      "execution_count": 4,
      "outputs": []
    },
    {
      "cell_type": "code",
      "source": [
        "# remove duplicates from sorted array-\n",
        "def removeDuplicates(nums):\n",
        "        j = 1\n",
        "        for i in range(1, len(nums)):\n",
        "            if nums[i] != nums[i - 1]:\n",
        "                nums[j] = nums[i]\n",
        "                j += 1\n",
        "        return j"
      ],
      "metadata": {
        "id": "gd344nbqp5oA"
      },
      "execution_count": 5,
      "outputs": []
    },
    {
      "cell_type": "code",
      "source": [
        "#generate pascal's triangle -\n",
        "\n",
        "def generate(numRows):\n",
        "  list1=[]\n",
        "  for i in range(numRows):\n",
        "      level=[]\n",
        "  for j in range(i+1):\n",
        "      if j==0 or j==i:\n",
        "            level.append(1)\n",
        "      else:\n",
        "            level.append(list1[i-1][j-1]+list1[i-1][j])\n",
        "      list1.append(level)\n",
        "  return list1\n"
      ],
      "metadata": {
        "id": "x9zOF9yMqgsp"
      },
      "execution_count": 7,
      "outputs": []
    },
    {
      "cell_type": "code",
      "source": [],
      "metadata": {
        "id": "LYjIVVqjrd3p"
      },
      "execution_count": null,
      "outputs": []
    }
  ]
}