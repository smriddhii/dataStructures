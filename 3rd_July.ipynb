{
  "nbformat": 4,
  "nbformat_minor": 0,
  "metadata": {
    "colab": {
      "provenance": [],
      "authorship_tag": "ABX9TyOJlZtKI/2GAzkq0g0ovuXP",
      "include_colab_link": true
    },
    "kernelspec": {
      "name": "python3",
      "display_name": "Python 3"
    },
    "language_info": {
      "name": "python"
    }
  },
  "cells": [
    {
      "cell_type": "markdown",
      "metadata": {
        "id": "view-in-github",
        "colab_type": "text"
      },
      "source": [
        "<a href=\"https://colab.research.google.com/github/smriddhii/dataStructures/blob/main/3rd_July.ipynb\" target=\"_parent\"><img src=\"https://colab.research.google.com/assets/colab-badge.svg\" alt=\"Open In Colab\"/></a>"
      ]
    },
    {
      "cell_type": "code",
      "execution_count": 1,
      "metadata": {
        "colab": {
          "base_uri": "https://localhost:8080/"
        },
        "id": "WTjfRhZ5MoQL",
        "outputId": "1c629a37-2f1b-409d-b735-c9a8de020f6c"
      },
      "outputs": [
        {
          "output_type": "execute_result",
          "data": {
            "text/plain": [
              "[4, 3, 2, 1]"
            ]
          },
          "metadata": {},
          "execution_count": 1
        }
      ],
      "source": [
        "# reverse an array-\n",
        "\n",
        "def reverseArray(arr):\n",
        "  res = arr[::-1]\n",
        "  return res\n",
        "\n",
        "reverseArray([1,2,3,4])"
      ]
    },
    {
      "cell_type": "code",
      "source": [
        "# max and min element in an array-\n",
        "\n",
        "def maxArray(arr):\n",
        "  return max(arr)\n",
        "\n",
        "def minArray(arr):\n",
        "  return min(arr)\n",
        "\n",
        "maxArray([10,99,4,56])\n",
        "minArray([10,99,4,56])\n"
      ],
      "metadata": {
        "colab": {
          "base_uri": "https://localhost:8080/"
        },
        "id": "8fNdejPGMzKI",
        "outputId": "88f83b62-8601-4dba-ab18-1bc42f9e76f6"
      },
      "execution_count": 6,
      "outputs": [
        {
          "output_type": "execute_result",
          "data": {
            "text/plain": [
              "4"
            ]
          },
          "metadata": {},
          "execution_count": 6
        }
      ]
    },
    {
      "cell_type": "code",
      "source": [
        "# return kth max-\n",
        "\n",
        "def kthMax(arr,k):\n",
        "  arr1 = sorted(arr)\n",
        "  return arr1[-k]\n",
        "\n",
        "kthMax([10,99,4,56], 2)"
      ],
      "metadata": {
        "colab": {
          "base_uri": "https://localhost:8080/"
        },
        "id": "N8S-4NcTNJcU",
        "outputId": "45c5f860-553c-451d-936b-480a31a6c251"
      },
      "execution_count": 8,
      "outputs": [
        {
          "output_type": "execute_result",
          "data": {
            "text/plain": [
              "56"
            ]
          },
          "metadata": {},
          "execution_count": 8
        }
      ]
    },
    {
      "cell_type": "code",
      "source": [
        "# sort 0,1,2\n",
        "\n",
        "def sort012(arr):\n",
        "  return sorted(arr)\n",
        "\n",
        "sort012([0,1,0,0,2,1])"
      ],
      "metadata": {
        "colab": {
          "base_uri": "https://localhost:8080/"
        },
        "id": "mMMMSlrMOhbJ",
        "outputId": "b2a0889b-2adf-43f5-84cc-62f123dffe78"
      },
      "execution_count": 10,
      "outputs": [
        {
          "output_type": "execute_result",
          "data": {
            "text/plain": [
              "[0, 0, 0, 1, 1, 2]"
            ]
          },
          "metadata": {},
          "execution_count": 10
        }
      ]
    },
    {
      "cell_type": "code",
      "source": [
        "# all negatives to one side-\n",
        "\n",
        "def negatives(arr):\n",
        "  ne = []\n",
        "  po = []\n",
        "  for i in range(len(arr) - 1):\n",
        "    if arr[i] <= 0:\n",
        "      ne.append(arr[i])\n",
        "    else:\n",
        "      po.append(arr[i])\n",
        "  arr.clear()\n",
        "  arr.extend(po + ne)\n",
        "  return arr\n",
        "\n",
        "negatives([1,-2,35,-4,6,-7])"
      ],
      "metadata": {
        "colab": {
          "base_uri": "https://localhost:8080/"
        },
        "id": "tahqj1YKO9Zj",
        "outputId": "6db63d7f-edd5-4924-e590-59e2b23e8ba6"
      },
      "execution_count": 11,
      "outputs": [
        {
          "output_type": "execute_result",
          "data": {
            "text/plain": [
              "[1, 35, 6, -2, -4]"
            ]
          },
          "metadata": {},
          "execution_count": 11
        }
      ]
    },
    {
      "cell_type": "code",
      "source": [
        "# union and intersection of two arrays-\n",
        "\n",
        "def union(arr1, arr2):\n",
        "  return arr1 and arr2\n",
        "\n",
        "union([1,2,3,4], [3,4,5,6])"
      ],
      "metadata": {
        "colab": {
          "base_uri": "https://localhost:8080/"
        },
        "id": "A7RXZZyJPro9",
        "outputId": "72131380-445d-4f71-bffa-16a6eef4abd7"
      },
      "execution_count": 12,
      "outputs": [
        {
          "output_type": "execute_result",
          "data": {
            "text/plain": [
              "[3, 4, 5, 6]"
            ]
          },
          "metadata": {},
          "execution_count": 12
        }
      ]
    },
    {
      "cell_type": "code",
      "source": [
        "# cyclically rotate array by one-\n",
        "\n",
        "def rotate(arr):\n",
        "  n = len(arr)\n",
        "  x = arr[-1]\n",
        "  for i in range(n - 1, 0, -1):\n",
        "      arr[i] = arr[i - 1];\n",
        "  arr[0] = x\n",
        "  return arr\n",
        "\n",
        "rotate([1,2,3,4,5,6])"
      ],
      "metadata": {
        "colab": {
          "base_uri": "https://localhost:8080/"
        },
        "id": "uIWM4LvwQNjA",
        "outputId": "1083c128-4331-499d-bc2e-3747ffd206ea"
      },
      "execution_count": 15,
      "outputs": [
        {
          "output_type": "execute_result",
          "data": {
            "text/plain": [
              "[6, 1, 2, 3, 4, 5]"
            ]
          },
          "metadata": {},
          "execution_count": 15
        }
      ]
    },
    {
      "cell_type": "code",
      "source": [
        "# max subarrya sum-\n",
        "\n",
        "def subarray(arr):\n",
        "    n = len(arr)\n",
        "    maxSum = -1e8\n",
        "\n",
        "    for i in range(0, n):\n",
        "        currSum = 0\n",
        "        for j in range(i, n):\n",
        "            currSum = currSum + arr[j]\n",
        "            if(currSum > maxSum):\n",
        "                maxSum = currSum\n",
        "\n",
        "    return maxSum\n",
        "\n",
        "subarray([1, 2, 7, -4, 3, 2, -10, 9, 1])"
      ],
      "metadata": {
        "colab": {
          "base_uri": "https://localhost:8080/"
        },
        "id": "9b_OHkLkR1U9",
        "outputId": "b5c6a78a-7d95-43eb-cb1f-c4a8756bf218"
      },
      "execution_count": 17,
      "outputs": [
        {
          "output_type": "execute_result",
          "data": {
            "text/plain": [
              "11"
            ]
          },
          "metadata": {},
          "execution_count": 17
        }
      ]
    },
    {
      "cell_type": "code",
      "source": [],
      "metadata": {
        "id": "knbma6othnRZ"
      },
      "execution_count": null,
      "outputs": []
    }
  ]
}