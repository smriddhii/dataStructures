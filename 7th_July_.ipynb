{
  "nbformat": 4,
  "nbformat_minor": 0,
  "metadata": {
    "colab": {
      "provenance": [],
      "authorship_tag": "ABX9TyNFcVlMkFZWfnuAPdoNaV4p",
      "include_colab_link": true
    },
    "kernelspec": {
      "name": "python3",
      "display_name": "Python 3"
    },
    "language_info": {
      "name": "python"
    }
  },
  "cells": [
    {
      "cell_type": "markdown",
      "metadata": {
        "id": "view-in-github",
        "colab_type": "text"
      },
      "source": [
        "<a href=\"https://colab.research.google.com/github/smriddhii/dataStructures/blob/main/7th_July_.ipynb\" target=\"_parent\"><img src=\"https://colab.research.google.com/assets/colab-badge.svg\" alt=\"Open In Colab\"/></a>"
      ]
    },
    {
      "cell_type": "code",
      "execution_count": null,
      "metadata": {
        "id": "b3kQm8pc-sye"
      },
      "outputs": [],
      "source": [
        "# streak question - Maximize the Confusion of an Exam\n",
        "class Solution:\n",
        "    def getAnswer(self, string, k, ch):\n",
        "        left = 0\n",
        "        ans = 0\n",
        "        count = 0\n",
        "        for i in range(len(string)):\n",
        "            if string[i] == ch:\n",
        "                count += 1\n",
        "            while count > k:\n",
        "                if string[left] == ch:\n",
        "                    count -= 1\n",
        "                left += 1\n",
        "            ans = max(ans, i - left + 1)\n",
        "        return ans\n",
        "\n",
        "    def maxConsecutiveAnswers(self, string, k):\n",
        "        return max(self.getAnswer(string, k, 'T'), self.getAnswer(string, k, 'F'))"
      ]
    },
    {
      "cell_type": "code",
      "source": [
        "# maximum sum subarray - v.imp-\n",
        "class Solution:\n",
        "    def maxSubArray(self, nums) -> int:\n",
        "        maxSub = nums[0]\n",
        "        currSum = 0\n",
        "\n",
        "        for i in nums:\n",
        "            if currSum < 0:\n",
        "                currSum = 0\n",
        "            currSum += i\n",
        "            maxSub = max(maxSub, currSum)\n",
        "        return maxSub\n"
      ],
      "metadata": {
        "id": "NnEQUD95-6oI"
      },
      "execution_count": null,
      "outputs": []
    },
    {
      "cell_type": "code",
      "source": [
        "# candy-\n",
        "class Solution:\n",
        "    def candy(self, ratings):\n",
        "        n = len(ratings)\n",
        "        give = [1] * n\n",
        "\n",
        "        for i in range(1, n):\n",
        "            if ratings[i] > ratings[i-1]:\n",
        "                give[i] = give[i-1] + 1\n",
        "\n",
        "        for i in range(n-2, -1, -1):\n",
        "            if ratings[i] > ratings[i+1] and give[i] <= give[i+1]:\n",
        "                give[i] = give[i+1] + 1\n",
        "        return sum(give)\n"
      ],
      "metadata": {
        "id": "KJLdjStP_P1_"
      },
      "execution_count": null,
      "outputs": []
    },
    {
      "cell_type": "code",
      "source": [
        "# gas station -\n",
        "def gasStation(gas,cost):\n",
        "        # Find the length of the route\n",
        "        n = len(gas)\n",
        "\n",
        "        # Initialize the left and right pointers and the total sum\n",
        "        l, r, total = 0, 0, 0\n",
        "\n",
        "        # Continue to expanding the right pointer until 2n to account for a circular route\n",
        "        while r < 2 * n:\n",
        "\n",
        "            # Reduce the window length until the total sum is not negative\n",
        "            while total < 0:\n",
        "                total -= gas[l % n] - cost[l % n]\n",
        "                l += 1\n",
        "\n",
        "            # If the window length is same as the length of the route and the total sum is non negative, we have found a solution\n",
        "            if r - l == n and total >= 0:\n",
        "                return l\n",
        "\n",
        "            # Else, expand the window\n",
        "            total += gas[r % n] - cost[r % n]\n",
        "            r += 1\n",
        "\n",
        "        return -1"
      ],
      "metadata": {
        "id": "0MeOh-3rDnRH"
      },
      "execution_count": null,
      "outputs": []
    },
    {
      "cell_type": "code",
      "source": [
        "# check if pallindrome using 2 pointers-\n",
        "def isPalindrome(self, s):\n",
        "        left, right = 0, len(s) - 1\n",
        "        while left < right:\n",
        "            if not s[left].isalnum():\n",
        "                left += 1\n",
        "            elif not s[right].isalnum():\n",
        "                right -= 1\n",
        "            elif s[left].lower() != s[right].lower():\n",
        "                return False\n",
        "            else:\n",
        "                left += 1\n",
        "                right -= 1\n",
        "        return True"
      ],
      "metadata": {
        "id": "ujQfNABLD_Rg"
      },
      "execution_count": null,
      "outputs": []
    },
    {
      "cell_type": "code",
      "source": [
        "# check if it is subsequence or not-\n",
        "def isSubsequence(self, s: str, t: str) -> bool:\n",
        "        i = 0\n",
        "        j = 0\n",
        "        while i < len(s) and j < len(t):\n",
        "            if s[i] == t[j]:\n",
        "                i += 1\n",
        "            j += 1\n",
        "        return i == len(s)"
      ],
      "metadata": {
        "id": "t75cU7ItE0hJ"
      },
      "execution_count": null,
      "outputs": []
    },
    {
      "cell_type": "code",
      "source": [],
      "metadata": {
        "id": "H8qbHOuAFSkL"
      },
      "execution_count": null,
      "outputs": []
    }
  ]
}