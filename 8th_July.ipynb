{
  "nbformat": 4,
  "nbformat_minor": 0,
  "metadata": {
    "colab": {
      "provenance": [],
      "authorship_tag": "ABX9TyNpubgCkh/XG71SLfVpU04x",
      "include_colab_link": true
    },
    "kernelspec": {
      "name": "python3",
      "display_name": "Python 3"
    },
    "language_info": {
      "name": "python"
    }
  },
  "cells": [
    {
      "cell_type": "markdown",
      "metadata": {
        "id": "view-in-github",
        "colab_type": "text"
      },
      "source": [
        "<a href=\"https://colab.research.google.com/github/smriddhii/dataStructures/blob/main/8th_July.ipynb\" target=\"_parent\"><img src=\"https://colab.research.google.com/assets/colab-badge.svg\" alt=\"Open In Colab\"/></a>"
      ]
    },
    {
      "cell_type": "code",
      "execution_count": 1,
      "metadata": {
        "id": "ya-Y5VFuAijb"
      },
      "outputs": [],
      "source": [
        "# reverse a linked list\n",
        "def reverseList(head):\n",
        "    curr = head\n",
        "    prev = None\n",
        "\n",
        "    while curr is not None:\n",
        "        next = curr.next\n",
        "        curr.next = prev\n",
        "        prev = curr\n",
        "        curr = next\n",
        "\n",
        "    return prev"
      ]
    },
    {
      "cell_type": "code",
      "source": [
        "# remove duplicates from linked list -\n",
        "def removeDups(head):\n",
        "    curr = head\n",
        "    while curr!= None and curr.next!= None:\n",
        "        if curr.key == curr.next.key :\n",
        "            curr.next = curr.next.next\n",
        "        else:\n",
        "            curr= curr.next\n",
        "    return head"
      ],
      "metadata": {
        "id": "9K0utIgtByxr"
      },
      "execution_count": 2,
      "outputs": []
    },
    {
      "cell_type": "code",
      "source": [
        "# check if linked list is pallindrome or not -\n",
        "def isPalindrome(self, head):\n",
        "        l = []\n",
        "        while head:\n",
        "            l.append(head.val)\n",
        "            head = head.next\n",
        "        return l == l[::-1]"
      ],
      "metadata": {
        "id": "Wq2T2IjdB5IM"
      },
      "execution_count": 3,
      "outputs": []
    },
    {
      "cell_type": "code",
      "source": [
        "# remove linked list elements -\n",
        "def removeElements(self, head, val):\n",
        "        prev = None\n",
        "        curr = head\n",
        "        while curr:\n",
        "            if curr.val == val and prev:\n",
        "                prev.next = curr.next\n",
        "                curr = curr.next\n",
        "                continue\n",
        "            elif curr.val == val and not prev:\n",
        "                head = head.next\n",
        "                curr = curr.next\n",
        "                continue\n",
        "            prev = curr\n",
        "            curr = curr.next\n",
        "        return head\n"
      ],
      "metadata": {
        "id": "eKZMEXRcC2d8"
      },
      "execution_count": 4,
      "outputs": []
    },
    {
      "cell_type": "code",
      "source": [
        "# delete node without head -\n",
        "def deleteNode(self, node):\n",
        "        \"\"\"\n",
        "        :type node: ListNode\n",
        "        :rtype: void Do not return anything, modify node in-place instead.\n",
        "        \"\"\"\n",
        "        node.val=node.next.val\n",
        "        if node.next.next:\n",
        "            node.next=node.next.next\n",
        "        else:\n",
        "            node.next=None"
      ],
      "metadata": {
        "id": "G-nSy-2wFafe"
      },
      "execution_count": 5,
      "outputs": []
    },
    {
      "cell_type": "code",
      "source": [],
      "metadata": {
        "id": "JJxprs-RFiYX"
      },
      "execution_count": null,
      "outputs": []
    }
  ]
}