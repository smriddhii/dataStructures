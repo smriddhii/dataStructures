{
  "nbformat": 4,
  "nbformat_minor": 0,
  "metadata": {
    "colab": {
      "provenance": [],
      "authorship_tag": "ABX9TyMoj/ia+lZV++csQUkgbSoF",
      "include_colab_link": true
    },
    "kernelspec": {
      "name": "python3",
      "display_name": "Python 3"
    },
    "language_info": {
      "name": "python"
    }
  },
  "cells": [
    {
      "cell_type": "markdown",
      "metadata": {
        "id": "view-in-github",
        "colab_type": "text"
      },
      "source": [
        "<a href=\"https://colab.research.google.com/github/smriddhii/dataStructures/blob/main/Circular_Linked_List.ipynb\" target=\"_parent\"><img src=\"https://colab.research.google.com/assets/colab-badge.svg\" alt=\"Open In Colab\"/></a>"
      ]
    },
    {
      "cell_type": "code",
      "execution_count": 9,
      "metadata": {
        "colab": {
          "base_uri": "https://localhost:8080/"
        },
        "id": "irSi1J6sX2ns",
        "outputId": "85bb39ef-def6-48df-bb0d-03455a8a2f45"
      },
      "outputs": [
        {
          "output_type": "stream",
          "name": "stdout",
          "text": [
            "10 30 "
          ]
        }
      ],
      "source": [
        "class Node:\n",
        "    def __init__(self, k):\n",
        "        self.key=k\n",
        "        self.next = None\n",
        "\n",
        "\n",
        "def printCircular(head):\n",
        "    if head == None:\n",
        "        return\n",
        "    print(head.key, end=\" \")\n",
        "    curr = head.next\n",
        "    while curr != head:\n",
        "        print(curr.key, end=\" \")\n",
        "        curr = curr.next\n",
        "\n",
        "# insert at beginning before head -\n",
        "def insertBeg(head, x):\n",
        "    temp = Node(x)\n",
        "    if head == None:\n",
        "        temp.next = temp\n",
        "        return temp\n",
        "    curr = head\n",
        "    while curr.next != head:\n",
        "        curr = curr.next\n",
        "\n",
        "    curr.next = temp\n",
        "    temp.next = head\n",
        "    return temp\n",
        "\n",
        "# insert at the end by swapping-\n",
        "def insertEnd(head,x):\n",
        "\n",
        "    temp = Node(x)\n",
        "\n",
        "    if head == None:\n",
        "        temp.next = temp\n",
        "        return temp\n",
        "\n",
        "    else:\n",
        "\n",
        "        temp.next = head.next\n",
        "        head.next = temp\n",
        "\n",
        "        temp.key,head.key = head.key,temp.key   #swapping\n",
        "        return temp\n",
        "\n",
        "\n",
        "# delete head of a circular linked list -\n",
        "def deleteHead(head):\n",
        "  if head == None:\n",
        "    return None\n",
        "  elif head.next == None:\n",
        "    return None\n",
        "  curr = head\n",
        "  while curr.next != head:\n",
        "    curr = curr.next\n",
        "  curr.next = head.next\n",
        "  return curr.next\n",
        "\n",
        "# delete kth node from linked list -\n",
        "def delkth(head,k):\n",
        "  if head == None:\n",
        "    return None\n",
        "  elif k == 1:\n",
        "    return deleteHead(head)\n",
        "  else:\n",
        "    curr = head\n",
        "    for i in range(k-2):\n",
        "      curr = curr.next\n",
        "    curr.next = curr.next.next\n",
        "    return head\n",
        "head = Node(10)\n",
        "head.next = Node(20)\n",
        "head.next.next = Node(30)\n",
        "head.next.next.next = head\n",
        "\n",
        "#head = insertBeg(head, 0)\n",
        "#head = insertEnd(head, 40)\n",
        "#head = deleteHead(head)\n",
        "head = delkth(head,2)\n",
        "\n",
        "printCircular(head)\n"
      ]
    },
    {
      "cell_type": "code",
      "source": [],
      "metadata": {
        "id": "syRmNJZGX8hd"
      },
      "execution_count": null,
      "outputs": []
    }
  ]
}