{
  "nbformat": 4,
  "nbformat_minor": 0,
  "metadata": {
    "colab": {
      "provenance": [],
      "authorship_tag": "ABX9TyP5LAH7jh/1yjujJV/Zavh4",
      "include_colab_link": true
    },
    "kernelspec": {
      "name": "python3",
      "display_name": "Python 3"
    },
    "language_info": {
      "name": "python"
    }
  },
  "cells": [
    {
      "cell_type": "markdown",
      "metadata": {
        "id": "view-in-github",
        "colab_type": "text"
      },
      "source": [
        "<a href=\"https://colab.research.google.com/github/smriddhii/dataStructures/blob/main/Deque.ipynb\" target=\"_parent\"><img src=\"https://colab.research.google.com/assets/colab-badge.svg\" alt=\"Open In Colab\"/></a>"
      ]
    },
    {
      "cell_type": "code",
      "execution_count": 8,
      "metadata": {
        "colab": {
          "base_uri": "https://localhost:8080/"
        },
        "id": "QhfXEdUdgSBe",
        "outputId": "3134eb40-fcbf-4ef9-d6ea-4fa2cb6c44ca"
      },
      "outputs": [
        {
          "output_type": "stream",
          "name": "stdout",
          "text": [
            "deque:  deque([1, 2, 3])\n",
            "\n",
            "The deque after appending at right is : \n",
            "deque([1, 2, 3, 4])\n",
            "\n",
            "The deque after appending at left is : \n",
            "deque([6, 1, 2, 3, 4])\n",
            "\n",
            "The deque after deleting from right is : \n",
            "deque([6, 1, 2, 3])\n",
            "\n",
            "The deque after deleting from left is : \n",
            "deque([1, 2, 3])\n",
            "The deque after extending deque at end is : \n",
            "deque([1, 2, 3, 4, 5, 6])\n",
            "The deque after extending deque at beginning is : \n",
            "deque([9, 8, 7, 1, 2, 3, 4, 5, 6])\n",
            "The deque after rotating deque is : \n",
            "deque([1, 2, 3, 4, 5, 6, 9, 8, 7])\n",
            "The deque after reversing deque is : \n",
            "deque([7, 8, 9, 6, 5, 4, 3, 2, 1])\n"
          ]
        }
      ],
      "source": [
        "import collections\n",
        "\n",
        "# initializing deque\n",
        "de = collections.deque([1, 2, 3])\n",
        "print(\"deque: \", de)\n",
        "\n",
        "# using append() to insert element at right end\n",
        "# inserts 4 at the end of deque\n",
        "de.append(4)\n",
        "\n",
        "# printing modified deque\n",
        "print(\"\\nThe deque after appending at right is : \")\n",
        "print(de)\n",
        "\n",
        "# using appendleft() to insert element at left end\n",
        "# inserts 6 at the beginning of deque\n",
        "de.appendleft(6)\n",
        "\n",
        "# printing modified deque\n",
        "print(\"\\nThe deque after appending at left is : \")\n",
        "print(de)\n",
        "\n",
        "de.pop()\n",
        "\n",
        "# printing modified deque\n",
        "print(\"\\nThe deque after deleting from right is : \")\n",
        "print(de)\n",
        "\n",
        "# using popleft() to delete element from left end\n",
        "# deletes 6 from the left end of deque\n",
        "de.popleft()\n",
        "\n",
        "# printing modified deque\n",
        "print(\"\\nThe deque after deleting from left is : \")\n",
        "print(de)\n",
        "\n",
        "de.extend([4,5,6])\n",
        "\n",
        "# printing modified deque\n",
        "print (\"The deque after extending deque at end is : \")\n",
        "print (de)\n",
        "\n",
        "# using extendleft() to add numbers to left end\n",
        "# adds 7,8,9 to left end\n",
        "de.extendleft([7,8,9])\n",
        "\n",
        "# printing modified deque\n",
        "print (\"The deque after extending deque at beginning is : \")\n",
        "print (de)\n",
        "\n",
        "# using rotate() to rotate the deque\n",
        "# rotates by 3 to left\n",
        "de.rotate(-3)\n",
        "\n",
        "# printing modified deque\n",
        "print (\"The deque after rotating deque is : \")\n",
        "print (de)\n",
        "\n",
        "# using reverse() to reverse the deque\n",
        "de.reverse()\n",
        "\n",
        "# printing modified deque\n",
        "print (\"The deque after reversing deque is : \")\n",
        "print (de)"
      ]
    },
    {
      "cell_type": "code",
      "source": [
        "# linked list implementation od deque -\n",
        "class Node:\n",
        "    def __init__(self, k):\n",
        "        self.key = k\n",
        "        self.next = None\n",
        "        self.prev = None\n",
        "\n",
        "\n",
        "class MyDeque:\n",
        "    def __init__(self, c):\n",
        "        self.front = None\n",
        "        self.rear = None\n",
        "        self.sz = 0\n",
        "\n",
        "    def size(self):\n",
        "        return self.sz\n",
        "\n",
        "    def isEmpty(self):\n",
        "        return self.sz == 0\n",
        "\n",
        "    def insertRear(self, x):\n",
        "        temp = Node(x)\n",
        "        if self.rear == None:\n",
        "            self.front = temp\n",
        "        else:\n",
        "            self.rear.next = temp\n",
        "            temp.prev = self.rear\n",
        "        self.rear = temp\n",
        "        self.sz = self.sz + 1\n",
        "\n",
        "    def deletfront(self):\n",
        "        if self.front == None:\n",
        "            return None\n",
        "        else:\n",
        "            res = self.front.key\n",
        "            self.front = self.front.next\n",
        "            if self.front == None:\n",
        "                self.rear = None\n",
        "            else:\n",
        "                self.front.prev = None\n",
        "            self.sz = self.sz - 1\n",
        "\n",
        "            return res\n",
        "\n",
        "    def getFront(self):\n",
        "        if self.front:\n",
        "            return self.front.key\n",
        "\n",
        "    def getRear(self):\n",
        "        if self.rear:\n",
        "            return self.rear.key\n",
        "\n",
        "# main\n",
        "\n",
        "dq = MyDeque(3)\n",
        "\n",
        "print(dq.isEmpty())\n",
        "dq.insertRear(10)\n",
        "print(dq.getFront(),dq.getRear())\n",
        "dq.insertRear(20)\n",
        "print(dq.getFront(),dq.getRear())\n",
        "dq.insertRear(30)\n",
        "print(dq.getFront(), dq.getRear())\n",
        "dq.deletfront()\n",
        "print(dq.getFront(), dq.getRear())"
      ],
      "metadata": {
        "colab": {
          "base_uri": "https://localhost:8080/"
        },
        "id": "cMczYPmN_bs_",
        "outputId": "191c562f-2430-4607-c0e5-58b31be7d3d7"
      },
      "execution_count": 9,
      "outputs": [
        {
          "output_type": "stream",
          "name": "stdout",
          "text": [
            "True\n",
            "10 10\n",
            "10 20\n",
            "10 30\n",
            "20 30\n"
          ]
        }
      ]
    },
    {
      "cell_type": "code",
      "source": [
        "# list implementation of deque -\n",
        "class MyDeque:\n",
        "    def __init__(self, c):\n",
        "        self.l = [None] * c\n",
        "        self.cap = c\n",
        "        self.size = 0\n",
        "        self.front = 0\n",
        "\n",
        "    def deleteFront(self):\n",
        "        if self.size == 0:\n",
        "            return None\n",
        "        else:\n",
        "            res = self.l[self.front]\n",
        "            self.front = (self.front + 1) % self.cap\n",
        "            self.size = self.size - 1\n",
        "\n",
        "            return res\n",
        "\n",
        "    def insertFront(self, x):\n",
        "\n",
        "        if self.size == self.cap:\n",
        "            return\n",
        "        else:\n",
        "            self.front = (self.front - 1) % self.cap\n",
        "            self.l[self.front] = x\n",
        "            self.size = self.size + 1\n",
        "\n",
        "    def insertRear(self, x):\n",
        "        if self.size == self.cap:\n",
        "            return\n",
        "        new_rear = (self.front + self.size) % self.cap\n",
        "        self.l[new_rear] = x\n",
        "        self.size = self.size + 1\n",
        "\n",
        "    def deleteRear(self):\n",
        "        sz = self.size\n",
        "        if sz == 0:\n",
        "            return None\n",
        "        else:\n",
        "            rear = (self.front + sz - 1) % self.cap\n",
        "            self.size = sz - 1\n",
        "            return self.l[rear]\n",
        "\n",
        "    def frontEle(self):\n",
        "        return self.l[self.front]\n",
        "\n",
        "    def rearEle(self):\n",
        "        rear = (self.front + self.size - 1) % self.cap\n",
        "        return self.l[rear]\n",
        "\n",
        "\n",
        "dq = MyDeque(4)\n",
        "\n",
        "dq.insertRear(10)\n",
        "print(dq.frontEle(), dq.rearEle())\n",
        "dq.insertFront(20)\n",
        "print(dq.frontEle(), dq.rearEle())\n",
        "dq.insertFront(30)\n",
        "print(dq.frontEle(), dq.rearEle())\n",
        "dq.deleteRear()\n",
        "print(dq.frontEle(), dq.rearEle())\n",
        "dq.insertRear(40)\n",
        "print(dq.frontEle(), dq.rearEle())\n",
        "dq.deleteRear()\n",
        "print(dq.frontEle(), dq.rearEle())"
      ],
      "metadata": {
        "colab": {
          "base_uri": "https://localhost:8080/"
        },
        "id": "fR1jmHN3ByI9",
        "outputId": "766a3a72-9940-49e4-e1ec-d4666f20b360"
      },
      "execution_count": 10,
      "outputs": [
        {
          "output_type": "stream",
          "name": "stdout",
          "text": [
            "10 10\n",
            "20 10\n",
            "30 10\n",
            "30 20\n",
            "30 40\n",
            "30 20\n"
          ]
        }
      ]
    },
    {
      "cell_type": "code",
      "source": [],
      "metadata": {
        "id": "8npzZx94CaTX"
      },
      "execution_count": null,
      "outputs": []
    }
  ]
}