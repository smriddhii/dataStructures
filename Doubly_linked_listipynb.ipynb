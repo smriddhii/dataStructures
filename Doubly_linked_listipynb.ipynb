{
  "nbformat": 4,
  "nbformat_minor": 0,
  "metadata": {
    "colab": {
      "provenance": [],
      "authorship_tag": "ABX9TyOFAPIwfxFu5m/AZdWLm8J5",
      "include_colab_link": true
    },
    "kernelspec": {
      "name": "python3",
      "display_name": "Python 3"
    },
    "language_info": {
      "name": "python"
    }
  },
  "cells": [
    {
      "cell_type": "markdown",
      "metadata": {
        "id": "view-in-github",
        "colab_type": "text"
      },
      "source": [
        "<a href=\"https://colab.research.google.com/github/smriddhii/dataStructures/blob/main/Doubly_linked_listipynb.ipynb\" target=\"_parent\"><img src=\"https://colab.research.google.com/assets/colab-badge.svg\" alt=\"Open In Colab\"/></a>"
      ]
    },
    {
      "cell_type": "code",
      "execution_count": 6,
      "metadata": {
        "colab": {
          "base_uri": "https://localhost:8080/"
        },
        "id": "-q2vKmnO5M4v",
        "outputId": "6b41a089-c5bb-45dc-8cb1-9207bb850a72"
      },
      "outputs": [
        {
          "output_type": "stream",
          "name": "stdout",
          "text": [
            "C B A \n"
          ]
        }
      ],
      "source": [
        "class Node:\n",
        "\n",
        "    def __init__(self, data):\n",
        "        self.data = data\n",
        "        self.prev = None\n",
        "        self.next = None\n",
        "\n",
        "\n",
        "def printDll(head):\n",
        "    curr = head\n",
        "    while curr != None:\n",
        "        print(curr.data, end=\" \")\n",
        "        curr = curr.next\n",
        "    print()\n",
        "\n",
        "def insertBegin(head, x):\n",
        "    temp = Node(x)\n",
        "\n",
        "    if head != None:\n",
        "        head.prev = temp\n",
        "    temp.next=head\n",
        "    temp.prev = None\n",
        "\n",
        "    return temp\n",
        "\n",
        "def insertEnd(head,x):\n",
        "\n",
        "    temp = Node(x)\n",
        "\n",
        "    if head == None:\n",
        "        return temp\n",
        "\n",
        "    else:\n",
        "\n",
        "        curr = head\n",
        "        while curr.next != None:\n",
        "            curr = curr.next\n",
        "\n",
        "        curr.next = temp\n",
        "        temp.prev = curr\n",
        "\n",
        "        return head\n",
        "\n",
        "# delete head of a doubly linked list -\n",
        "def delHead(head):\n",
        "\n",
        "    if head == None:\n",
        "        return None\n",
        "\n",
        "    if head.next == None:\n",
        "        return None\n",
        "    else:\n",
        "        head = head.next\n",
        "        head.prev = None\n",
        "\n",
        "        return head\n",
        "\n",
        "# delete the last node -\n",
        "def delLast(head):\n",
        "    if head == None:\n",
        "        return None\n",
        "    if head.next == None:\n",
        "        return None\n",
        "\n",
        "    curr = head\n",
        "    while curr.next.next != None:\n",
        "        curr = curr.next\n",
        "\n",
        "    curr.next = None\n",
        "\n",
        "    return head\n",
        "\n",
        "# reverse the double linked list -\n",
        "def reverse(head):\n",
        "        temp = None\n",
        "        current = head\n",
        "\n",
        "        # Swap next and prev for all nodes of\n",
        "        # doubly linked list\n",
        "        while current is not None:\n",
        "            temp = current.prev\n",
        "            current.prev = current.next\n",
        "            current.next = temp\n",
        "            current = current.prev\n",
        "\n",
        "        # Before changing head, check for the cases like\n",
        "        # empty list and list with only one node\n",
        "        if temp is not None:\n",
        "            head = temp.prev\n",
        "\n",
        "        return head\n",
        "head = Node('A')\n",
        "temp1 = Node('B')\n",
        "temp2 = Node('C')\n",
        "\n",
        "head.next = temp1\n",
        "temp1.prev = head\n",
        "\n",
        "temp1.next = temp2\n",
        "temp2.prev = temp1\n",
        "#head = insertBegin(head, 0)\n",
        "#head = insertEnd(head, 'D')\n",
        "#head = delHead(head)\n",
        "#head = delLast(head)\n",
        "head = reverse(head)\n",
        "printDll(head)"
      ]
    },
    {
      "cell_type": "code",
      "source": [],
      "metadata": {
        "id": "bt8Xzm8l5Tkj"
      },
      "execution_count": null,
      "outputs": []
    }
  ]
}