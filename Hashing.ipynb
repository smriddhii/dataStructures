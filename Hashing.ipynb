{
  "nbformat": 4,
  "nbformat_minor": 0,
  "metadata": {
    "colab": {
      "provenance": [],
      "authorship_tag": "ABX9TyP9U3H5w1Frzkp1pGJsI2KN",
      "include_colab_link": true
    },
    "kernelspec": {
      "name": "python3",
      "display_name": "Python 3"
    },
    "language_info": {
      "name": "python"
    }
  },
  "cells": [
    {
      "cell_type": "markdown",
      "metadata": {
        "id": "view-in-github",
        "colab_type": "text"
      },
      "source": [
        "<a href=\"https://colab.research.google.com/github/smriddhii/dataStructures/blob/main/Hashing.ipynb\" target=\"_parent\"><img src=\"https://colab.research.google.com/assets/colab-badge.svg\" alt=\"Open In Colab\"/></a>"
      ]
    },
    {
      "cell_type": "code",
      "execution_count": null,
      "metadata": {
        "colab": {
          "base_uri": "https://localhost:8080/"
        },
        "id": "_6jDfgPjwNDa",
        "outputId": "b399fc83-a057-4140-f8c4-3063e8bbc27c"
      },
      "outputs": [
        {
          "output_type": "stream",
          "name": "stdout",
          "text": [
            "True\n",
            "False\n"
          ]
        }
      ],
      "source": [
        "# implementation of hash table-\n",
        "\n",
        "class MyHash:\n",
        "  def __init__(self,b):\n",
        "    self.Bucket = b\n",
        "    self.table = [[] for x in range(b)]\n",
        "\n",
        "  def insert(self,x):\n",
        "    i = x % self.Bucket\n",
        "    self.table[i].append(x)\n",
        "\n",
        "  def remove(self,x):\n",
        "    i = x % self.Bucket\n",
        "    self.table[i].remove(x)\n",
        "\n",
        "  def search(self,x):\n",
        "    i = x % self.Bucket\n",
        "    return x in self.table[i]\n",
        "\n",
        "h = MyHash(7)\n",
        "h.insert(70)\n",
        "h.insert(71)\n",
        "h.insert(9)\n",
        "h.insert(56)\n",
        "h.insert(72)\n",
        "print(h.search(56))\n",
        "h.remove(72)\n",
        "print(h.search(72))"
      ]
    },
    {
      "cell_type": "code",
      "source": [
        "#first step of implementing a hash map is creating a hash function-\n",
        "\n",
        "def get_hash(key):\n",
        "  h = 0\n",
        "  for i in key:\n",
        "    h += ord(i)\n",
        "  return h % 100"
      ],
      "metadata": {
        "id": "O81JJGB_CW8k"
      },
      "execution_count": null,
      "outputs": []
    },
    {
      "cell_type": "code",
      "source": [
        "# frequencies of array elements-\n",
        "\n",
        "def countFreq(arr, n):\n",
        "\n",
        "    hmp = dict()\n",
        "\n",
        "    # Traverse through array elements and count frequencies\n",
        "    for i in range(n):\n",
        "        if arr[i] in hmp.keys():\n",
        "            hmp[arr[i]] += 1\n",
        "        else:\n",
        "            hmp[arr[i]] = 1\n",
        "\n",
        "    # Traverse through map and print frequencies\n",
        "    for x in hmp:\n",
        "        print(x, \" \", hmp[x])\n",
        "\n",
        "\n",
        "arr = [10, 20, 20, 10, 10, 20, 5, 20 ]\n",
        "n = len(arr)\n",
        "countFreq(arr, n)"
      ],
      "metadata": {
        "id": "8n3ZhN16zVir",
        "colab": {
          "base_uri": "https://localhost:8080/"
        },
        "outputId": "97d57e2d-768e-4723-9617-24ef1aeb14f0"
      },
      "execution_count": 4,
      "outputs": [
        {
          "output_type": "execute_result",
          "data": {
            "text/plain": [
              "3"
            ]
          },
          "metadata": {},
          "execution_count": 4
        }
      ]
    },
    {
      "cell_type": "code",
      "source": [
        "# open addressing in python-\n",
        "\n",
        "class MyHash:\n",
        "    def __init__(self, c):\n",
        "        self.cap = c\n",
        "        self.table = [-1] * c\n",
        "        self.size = 0\n",
        "\n",
        "    def hash(self, x):\n",
        "        return x % self.cap\n",
        "\n",
        "    def search(self, x):\n",
        "        h = self.hash(x)\n",
        "        t = self.table\n",
        "        i = h\n",
        "        while t[i] != -1:\n",
        "            if t[i] == x:\n",
        "                return True\n",
        "            i = (i + 1) % self.cap\n",
        "            if i == h:\n",
        "                return False\n",
        "        return False\n",
        "\n",
        "    def insert(self, x):\n",
        "        if self.size == self.cap:\n",
        "            return False\n",
        "\n",
        "        if self.search(x) == True:\n",
        "            return False\n",
        "        i = self.hash(x)\n",
        "        t = self.table\n",
        "        while t[i] not in (-1, -2):\n",
        "            i = (i + 1) % self.cap\n",
        "\n",
        "        t[i] = x\n",
        "        self.size = self.size + 1\n",
        "        return True\n",
        "\n",
        "    def remove(self, x):\n",
        "        h = self.hash(x)\n",
        "        t = self.table\n",
        "        i = h\n",
        "        while t[i] != -1:\n",
        "            if t[i] == x:\n",
        "                t[i] = -2\n",
        "                return True\n",
        "            i = (i + 1) % self.cap\n",
        "            if i == h:\n",
        "                return False\n",
        "        return False\n",
        "\n",
        "\n",
        "h = MyHash(7)\n",
        "h.insert(70)\n",
        "h.insert(71)\n",
        "h.insert(9)\n",
        "h.insert(56)\n",
        "h.insert(72)\n",
        "print(h.search(56))\n",
        "h.remove(56)\n",
        "print(h.search(56))\n",
        "h.remove(56)\n"
      ],
      "metadata": {
        "colab": {
          "base_uri": "https://localhost:8080/"
        },
        "id": "ODgX1-PlO91u",
        "outputId": "e7449408-0e8f-4634-e97c-4fe31beaab3d"
      },
      "execution_count": 3,
      "outputs": [
        {
          "output_type": "stream",
          "name": "stdout",
          "text": [
            "True\n",
            "False\n"
          ]
        },
        {
          "output_type": "execute_result",
          "data": {
            "text/plain": [
              "False"
            ]
          },
          "metadata": {},
          "execution_count": 3
        }
      ]
    },
    {
      "cell_type": "code",
      "source": [
        "# sets-\n",
        "s1 = {10, 20, 30}\n",
        "\n",
        "print(s1)\n",
        "\n",
        "s2 = set([20, 30, 40])\n",
        "\n",
        "print(s2)\n",
        "\n",
        "s3 = {}\n",
        "\n",
        "print('expected type set',type(s3))\n",
        "\n",
        "s4 = set()\n",
        "\n",
        "print(type(s4))\n",
        "\n",
        "print(s4)\n",
        "\n"
      ],
      "metadata": {
        "colab": {
          "base_uri": "https://localhost:8080/"
        },
        "id": "aK5rFLTIPNXk",
        "outputId": "a1c7a96a-ea91-45ce-e3fb-f1c3f51ea5d4"
      },
      "execution_count": 5,
      "outputs": [
        {
          "output_type": "stream",
          "name": "stdout",
          "text": [
            "{10, 20, 30}\n",
            "{40, 20, 30}\n",
            "expected type set <class 'dict'>\n",
            "<class 'set'>\n",
            "set()\n"
          ]
        }
      ]
    },
    {
      "cell_type": "code",
      "source": [
        "# adding a new element to set-\n",
        "s = {10, 20}\n",
        "\n",
        "s.add(30)\n",
        "\n",
        "print(s)\n",
        "\n",
        "s.add(30)  # adding duplicate items\n",
        "print(s)\n",
        "\n",
        "s.update([40, 50])\n",
        "\n",
        "print(s)\n",
        "\n",
        "s.update([60, 70], [80, 90])  # inserting multiple list\n",
        "\n",
        "print(s)"
      ],
      "metadata": {
        "colab": {
          "base_uri": "https://localhost:8080/"
        },
        "id": "p40nPxcdQsrq",
        "outputId": "685971bf-8c12-46da-c2ce-dfa240ac472f"
      },
      "execution_count": 6,
      "outputs": [
        {
          "output_type": "stream",
          "name": "stdout",
          "text": [
            "{10, 20, 30}\n",
            "{10, 20, 30}\n",
            "{40, 10, 50, 20, 30}\n",
            "{70, 40, 10, 80, 50, 20, 90, 60, 30}\n"
          ]
        }
      ]
    },
    {
      "cell_type": "code",
      "source": [
        "# removing elements from sets-\n",
        "s = {10, 30, 20, 40}\n",
        "\n",
        "s.discard(30)\n",
        "\n",
        "print(s)\n",
        "\n",
        "s.remove(20)\n",
        "\n",
        "print(s)\n",
        "\n",
        "s.clear()\n",
        "\n",
        "print(s)\n",
        "\n",
        "s.add(50)\n",
        "\n",
        "del s"
      ],
      "metadata": {
        "colab": {
          "base_uri": "https://localhost:8080/"
        },
        "id": "Av7hUgEjQ4JU",
        "outputId": "89b22e80-e823-49cf-d49b-7603db3b7cce"
      },
      "execution_count": 7,
      "outputs": [
        {
          "output_type": "stream",
          "name": "stdout",
          "text": [
            "{40, 10, 20}\n",
            "{40, 10}\n",
            "set()\n"
          ]
        }
      ]
    },
    {
      "cell_type": "code",
      "source": [
        "# operation on 2 sets-\n",
        "s1 = {2, 4, 6, 8}\n",
        "\n",
        "s2 = {3, 6, 9}\n",
        "\n",
        "print('union ', s1 | s2)\n",
        "print(s1.union(s2))\n",
        "\n",
        "print('intersecton', s1 & s2)\n",
        "print(s1.intersection(s2))\n",
        "\n",
        "print('present in s1, but not present in s2', s1 - s2)\n",
        "print(s1.difference(s2))\n",
        "\n",
        "print('symmetric differences, not present in both', s1 ^ s2)\n",
        "\n"
      ],
      "metadata": {
        "colab": {
          "base_uri": "https://localhost:8080/"
        },
        "id": "wQISGO5IRCZf",
        "outputId": "6ea609e7-66b8-404d-e4bd-27b50285a6b1"
      },
      "execution_count": 8,
      "outputs": [
        {
          "output_type": "stream",
          "name": "stdout",
          "text": [
            "union  {2, 3, 4, 6, 8, 9}\n",
            "{2, 3, 4, 6, 8, 9}\n",
            "intersecton {6}\n",
            "{6}\n",
            "present in s1, but not present in s2 {8, 2, 4}\n",
            "{8, 2, 4}\n",
            "symmetric differences, not present in both {2, 3, 4, 8, 9}\n"
          ]
        }
      ]
    },
    {
      "cell_type": "code",
      "source": [
        "s1 = {2, 4, 6, 8}\n",
        "s2 = {4, 8}\n",
        "\n",
        "print('disjoint sets:', s1.isdisjoint(s2))\n",
        "\n",
        "print('isSubset:', s1 <= s2)\n",
        "print(s1.issubset(s2))\n",
        "\n",
        "print('proper set:', s1 < s2)\n",
        "\n",
        "print('s1 is superset of s2:', s1 >= s2)\n",
        "print(s1.issuperset(s2))\n",
        "\n",
        "print('s1 is proper superset of s2:', s1 > s2)\n"
      ],
      "metadata": {
        "colab": {
          "base_uri": "https://localhost:8080/"
        },
        "id": "_LVJ7eLYRRhO",
        "outputId": "abc68f8c-eab0-4933-b48e-19b51cd386f5"
      },
      "execution_count": 9,
      "outputs": [
        {
          "output_type": "stream",
          "name": "stdout",
          "text": [
            "disjoint sets: False\n",
            "isSubset: False\n",
            "False\n",
            "proper set: False\n",
            "s1 is superset of s2: True\n",
            "True\n",
            "s1 is proper superset of s2: True\n"
          ]
        }
      ]
    },
    {
      "cell_type": "code",
      "source": [
        "#dictionaries-\n",
        "\n",
        "d = {110: 'abc', 101: 'xyz', 105: 'pqr'}\n",
        "\n",
        "print(d)\n",
        "\n",
        "d = {}\n",
        "d['laptop'] = 40000\n",
        "d['mobile'] = 15000\n",
        "d['earphone'] = 1000\n",
        "\n",
        "print(d)\n",
        "\n",
        "print(d['mobile'])"
      ],
      "metadata": {
        "colab": {
          "base_uri": "https://localhost:8080/"
        },
        "id": "FiZ4jApkRTK5",
        "outputId": "a956a6c4-41b7-46ba-8616-1e1674c24f1a"
      },
      "execution_count": 1,
      "outputs": [
        {
          "output_type": "stream",
          "name": "stdout",
          "text": [
            "{110: 'abc', 101: 'xyz', 105: 'pqr'}\n",
            "{'laptop': 40000, 'mobile': 15000, 'earphone': 1000}\n",
            "15000\n"
          ]
        }
      ]
    },
    {
      "cell_type": "code",
      "source": [
        "d = {110: 'abc', 101: 'xyz', 105: 'pqr'}\n",
        "\n",
        "print(d.get(101))\n",
        "\n",
        "print(d.get(125))\n",
        "\n",
        "print(d.get(125, \"NA\"))\n",
        "\n",
        "if 125 in d:\n",
        "    print(d[125])\n",
        "else:\n",
        "    print(\"NA\")"
      ],
      "metadata": {
        "colab": {
          "base_uri": "https://localhost:8080/"
        },
        "id": "9fEj-xjmqvxG",
        "outputId": "d5f33736-46ca-4311-daf9-b295bb946bf1"
      },
      "execution_count": 2,
      "outputs": [
        {
          "output_type": "stream",
          "name": "stdout",
          "text": [
            "xyz\n",
            "None\n",
            "NA\n",
            "NA\n"
          ]
        }
      ]
    },
    {
      "cell_type": "code",
      "source": [
        "d = {110: 'abc', 101: 'xyz', 105: 'pqr', 106: 'bcd'}\n",
        "\n",
        "d[101] = 'wxy'\n",
        "\n",
        "print(len(d))\n",
        "\n",
        "print(d)\n",
        "\n",
        "print('returning and removing 105', d.pop(105))\n",
        "\n",
        "print('after removing 105', d)\n",
        "\n",
        "del d[106]\n",
        "\n",
        "print(d)\n",
        "\n",
        "d[108] = 'cde'\n",
        "\n",
        "print('returning and removing last inserted', d.popitem())\n"
      ],
      "metadata": {
        "colab": {
          "base_uri": "https://localhost:8080/"
        },
        "id": "ZZMkIQobrhvl",
        "outputId": "586d457e-9fc4-4e87-ec0d-a5df545466f5"
      },
      "execution_count": 3,
      "outputs": [
        {
          "output_type": "stream",
          "name": "stdout",
          "text": [
            "4\n",
            "{110: 'abc', 101: 'wxy', 105: 'pqr', 106: 'bcd'}\n",
            "returning and removing 105 pqr\n",
            "after removing 105 {110: 'abc', 101: 'wxy', 106: 'bcd'}\n",
            "{110: 'abc', 101: 'wxy'}\n",
            "returning and removing last inserted (108, 'cde')\n"
          ]
        }
      ]
    },
    {
      "cell_type": "code",
      "source": [
        "# distinct elements in list -\n",
        "\n",
        "def countDistinct(arr, n):\n",
        "\n",
        "    res = 1\n",
        "\n",
        "    # Pick all elements one by one\n",
        "    for i in range(1, n):\n",
        "        j = 0\n",
        "        for j in range(i):\n",
        "            if (arr[i] == arr[j]):\n",
        "                break\n",
        "\n",
        "        # If not printed earlier, then print it\n",
        "        if (i == j + 1):\n",
        "            res += 1\n",
        "\n",
        "    return res"
      ],
      "metadata": {
        "id": "fWvxp1ccrk0j"
      },
      "execution_count": 4,
      "outputs": []
    },
    {
      "cell_type": "code",
      "source": [],
      "metadata": {
        "id": "Nqe_2UjZsSQK"
      },
      "execution_count": null,
      "outputs": []
    }
  ]
}