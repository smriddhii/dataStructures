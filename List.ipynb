{
  "cells": [
    {
      "cell_type": "markdown",
      "metadata": {
        "id": "view-in-github",
        "colab_type": "text"
      },
      "source": [
        "<a href=\"https://colab.research.google.com/github/smriddhii/dataStructures/blob/main/List.ipynb\" target=\"_parent\"><img src=\"https://colab.research.google.com/assets/colab-badge.svg\" alt=\"Open In Colab\"/></a>"
      ]
    },
    {
      "cell_type": "code",
      "execution_count": null,
      "metadata": {
        "id": "vFEMMtdy375i"
      },
      "outputs": [],
      "source": [
        "l = [10,20,30,40,50]"
      ]
    },
    {
      "cell_type": "code",
      "execution_count": null,
      "metadata": {
        "colab": {
          "base_uri": "https://localhost:8080/"
        },
        "id": "Yj5GE0ks4BgP",
        "outputId": "efc67154-9ff3-43a3-a80a-60bf1c959459"
      },
      "outputs": [
        {
          "data": {
            "text/plain": [
              "[10, 20, 30, 40, 50, 30, 30]"
            ]
          },
          "execution_count": 3,
          "metadata": {},
          "output_type": "execute_result"
        }
      ],
      "source": [
        "l.append(30)\n",
        "l"
      ]
    },
    {
      "cell_type": "code",
      "execution_count": null,
      "metadata": {
        "colab": {
          "base_uri": "https://localhost:8080/"
        },
        "id": "-UtUm0X84HU_",
        "outputId": "d26ba2b2-b570-4390-c6c0-3890b82fdc8f"
      },
      "outputs": [
        {
          "data": {
            "text/plain": [
              "[10, 20, 30, 40, 50, 30]"
            ]
          },
          "execution_count": 4,
          "metadata": {},
          "output_type": "execute_result"
        }
      ],
      "source": [
        "l.pop()\n",
        "l"
      ]
    },
    {
      "cell_type": "code",
      "execution_count": null,
      "metadata": {
        "colab": {
          "base_uri": "https://localhost:8080/"
        },
        "id": "DdlcQDBg4LJr",
        "outputId": "13fd7be0-8eeb-46da-dff5-198131d8d5a2"
      },
      "outputs": [
        {
          "data": {
            "text/plain": [
              "[10, 15, 20, 30, 40, 50, 30]"
            ]
          },
          "execution_count": 5,
          "metadata": {},
          "output_type": "execute_result"
        }
      ],
      "source": [
        "l.insert(1,15)\n",
        "l"
      ]
    },
    {
      "cell_type": "code",
      "execution_count": null,
      "metadata": {
        "colab": {
          "base_uri": "https://localhost:8080/"
        },
        "id": "Muv2f4oD4OBs",
        "outputId": "2e1f9a8c-4ea9-4f7d-9773-913701c0eb62"
      },
      "outputs": [
        {
          "data": {
            "text/plain": [
              "[10, 15, 30, 40, 50, 30]"
            ]
          },
          "execution_count": 6,
          "metadata": {},
          "output_type": "execute_result"
        }
      ],
      "source": [
        "l.remove(20)\n",
        "l"
      ]
    },
    {
      "cell_type": "code",
      "execution_count": null,
      "metadata": {
        "colab": {
          "base_uri": "https://localhost:8080/"
        },
        "id": "7DoULtu84RQ9",
        "outputId": "6cb8c940-a452-402e-b834-10bf78f219bf"
      },
      "outputs": [
        {
          "data": {
            "text/plain": [
              "30"
            ]
          },
          "execution_count": 7,
          "metadata": {},
          "output_type": "execute_result"
        }
      ],
      "source": [
        "l.pop(2)"
      ]
    },
    {
      "cell_type": "code",
      "execution_count": null,
      "metadata": {
        "colab": {
          "base_uri": "https://localhost:8080/"
        },
        "id": "KWhm1TFf4Tz_",
        "outputId": "cf556249-74f1-40a1-a69d-de923dbd01bf"
      },
      "outputs": [
        {
          "data": {
            "text/plain": [
              "[10, 15, 40, 50, 30]"
            ]
          },
          "execution_count": 8,
          "metadata": {},
          "output_type": "execute_result"
        }
      ],
      "source": [
        "l"
      ]
    },
    {
      "cell_type": "code",
      "execution_count": null,
      "metadata": {
        "id": "UpRp8SrB4VKg"
      },
      "outputs": [],
      "source": [
        "del l[1]"
      ]
    },
    {
      "cell_type": "code",
      "execution_count": null,
      "metadata": {
        "colab": {
          "base_uri": "https://localhost:8080/"
        },
        "id": "MUFXGFOf4Xw9",
        "outputId": "b4570c32-c4a9-4dbf-e7d1-9d782f7be8ce"
      },
      "outputs": [
        {
          "data": {
            "text/plain": [
              "[10, 40, 50, 30]"
            ]
          },
          "execution_count": 10,
          "metadata": {},
          "output_type": "execute_result"
        }
      ],
      "source": [
        "l"
      ]
    },
    {
      "cell_type": "code",
      "execution_count": null,
      "metadata": {
        "id": "emhtm_Hr4Y5F"
      },
      "outputs": [],
      "source": [
        "del l[0:2]"
      ]
    },
    {
      "cell_type": "code",
      "execution_count": null,
      "metadata": {
        "colab": {
          "base_uri": "https://localhost:8080/"
        },
        "id": "mg4uyXee4cBw",
        "outputId": "cea8debd-de2a-4c83-9d03-0d527fc66533"
      },
      "outputs": [
        {
          "data": {
            "text/plain": [
              "[50, 30]"
            ]
          },
          "execution_count": 12,
          "metadata": {},
          "output_type": "execute_result"
        }
      ],
      "source": [
        "l"
      ]
    },
    {
      "cell_type": "code",
      "execution_count": null,
      "metadata": {
        "colab": {
          "base_uri": "https://localhost:8080/"
        },
        "id": "O3PRc0MZ4crm",
        "outputId": "ece3f5c8-3232-4748-db71-05b0e33972a4"
      },
      "outputs": [
        {
          "name": "stdout",
          "output_type": "stream",
          "text": [
            "25.0\n"
          ]
        }
      ],
      "source": [
        "#average of the list\n",
        "l = [10,20,30,40]\n",
        "sum = 0\n",
        "for i in l:\n",
        "  sum += i\n",
        "\n",
        "print(sum/ len(l))"
      ]
    },
    {
      "cell_type": "code",
      "execution_count": null,
      "metadata": {
        "colab": {
          "base_uri": "https://localhost:8080/"
        },
        "id": "paTIVbTkW3zt",
        "outputId": "d862f279-0b8e-4aed-b2f4-3f17a21bad53"
      },
      "outputs": [
        {
          "name": "stdout",
          "output_type": "stream",
          "text": [
            "[10, 30, 80]\n",
            "[41, 15]\n"
          ]
        }
      ],
      "source": [
        "# separate even and odd lists\n",
        "l = [10,41,30,15,80]\n",
        "even= []\n",
        "odd = []\n",
        "\n",
        "for i in l:\n",
        "  if i % 2 == 0:\n",
        "    even.append(i)\n",
        "\n",
        "  else:\n",
        "    odd.append(i)\n",
        "print(even)\n",
        "print(odd)"
      ]
    },
    {
      "cell_type": "code",
      "execution_count": null,
      "metadata": {
        "colab": {
          "base_uri": "https://localhost:8080/"
        },
        "id": "VFQEodrpXtBf",
        "outputId": "47efa8a9-6120-4272-aafd-e15b0f23b333"
      },
      "outputs": [
        {
          "name": "stdout",
          "output_type": "stream",
          "text": [
            "[8, 3, 7]\n"
          ]
        }
      ],
      "source": [
        "#get smaller elements than x from the list\n",
        "x = 10\n",
        "l = [8, 100, 20, 40, 3, 7]\n",
        "small = []\n",
        "\n",
        "for i in l:\n",
        "  if i < x:\n",
        "    small.append(i)\n",
        "\n",
        "print(small)"
      ]
    },
    {
      "cell_type": "code",
      "execution_count": null,
      "metadata": {
        "colab": {
          "base_uri": "https://localhost:8080/"
        },
        "id": "B2Kp_9X4Zbc4",
        "outputId": "c5e40f64-d67e-4703-b95a-42e397969c06"
      },
      "outputs": [
        {
          "name": "stdout",
          "output_type": "stream",
          "text": [
            "[10, 30, 50]\n"
          ]
        }
      ],
      "source": [
        "l = [10,20,30,40,50]\n",
        "print(l[0:5:2])"
      ]
    },
    {
      "cell_type": "code",
      "execution_count": null,
      "metadata": {
        "colab": {
          "base_uri": "https://localhost:8080/"
        },
        "id": "M5CbHK7_aoqx",
        "outputId": "335df9ac-1922-45e0-b0ac-0e8d84617e1a"
      },
      "outputs": [
        {
          "name": "stdout",
          "output_type": "stream",
          "text": [
            "[30, 40, 50]\n"
          ]
        }
      ],
      "source": [
        "print(l[2:])"
      ]
    },
    {
      "cell_type": "code",
      "execution_count": null,
      "metadata": {
        "colab": {
          "base_uri": "https://localhost:8080/"
        },
        "id": "gM8s1yy1ar-1",
        "outputId": "40021db4-10a7-46b9-96d5-8850ae65d684"
      },
      "outputs": [
        {
          "name": "stdout",
          "output_type": "stream",
          "text": [
            "[10, 20, 30, 40]\n"
          ]
        }
      ],
      "source": [
        "print(l[:4])"
      ]
    },
    {
      "cell_type": "code",
      "execution_count": null,
      "metadata": {
        "colab": {
          "base_uri": "https://localhost:8080/"
        },
        "id": "OF0a7-42auSd",
        "outputId": "453ff14b-dabd-4a7d-8c2d-ab87fc0deea9"
      },
      "outputs": [
        {
          "name": "stdout",
          "output_type": "stream",
          "text": [
            "[20, 30, 40]\n"
          ]
        }
      ],
      "source": [
        "print(l[1:4])"
      ]
    },
    {
      "cell_type": "code",
      "execution_count": null,
      "metadata": {
        "colab": {
          "base_uri": "https://localhost:8080/"
        },
        "id": "umJyY7x-a2VR",
        "outputId": "28739b3a-50e1-4689-a3e9-2f9c50cbfcf9"
      },
      "outputs": [
        {
          "name": "stdout",
          "output_type": "stream",
          "text": [
            "[0, 2, 4, 6, 8, 10]\n",
            "[1, 3, 5, 7, 9]\n",
            "[0, 2, 4]\n"
          ]
        }
      ],
      "source": [
        "#list comprehensions\n",
        "\n",
        "l1 = [x for x in range(11) if x % 2 == 0]\n",
        "print(l1)\n",
        "\n",
        "l2 = [x for x in range(11) if x%2 != 0]\n",
        "print(l2)\n",
        "\n",
        "y = 6\n",
        "l3 = [x for x in l1 if x<y]\n",
        "print(l3)"
      ]
    },
    {
      "cell_type": "code",
      "execution_count": null,
      "metadata": {
        "colab": {
          "background_save": true,
          "base_uri": "https://localhost:8080/"
        },
        "id": "XXygxRNdbyrX",
        "outputId": "118e1b20-db6d-41bb-b3e7-5c5b15131754"
      },
      "outputs": [
        {
          "name": "stdout",
          "output_type": "stream",
          "text": [
            "20\n",
            "10\n"
          ]
        }
      ],
      "source": [
        "l = [10,5,20,8]\n",
        "\n",
        "l1 = sorted(l)\n",
        "print(l1[-1])"
      ]
    },
    {
      "cell_type": "code",
      "execution_count": null,
      "metadata": {
        "id": "oizSawDJcwCa",
        "colab": {
          "base_uri": "https://localhost:8080/"
        },
        "outputId": "db49c211-d2ab-4c0f-b1d7-dc32462c5881"
      },
      "outputs": [
        {
          "output_type": "execute_result",
          "data": {
            "text/plain": [
              "[2, 3, 4, 5, 1]"
            ]
          },
          "metadata": {},
          "execution_count": 19
        }
      ],
      "source": [
        "# rotate list by 1 on left\n",
        "\n",
        "l = [1,2,3,4,5]\n",
        "l.append(l.pop(0))\n",
        "l"
      ]
    },
    {
      "cell_type": "code",
      "source": [
        "list1 = [1,2,3,4,5]\n",
        "list2 = list1\n",
        "list2[0] = 0\n",
        "list1"
      ],
      "metadata": {
        "colab": {
          "base_uri": "https://localhost:8080/"
        },
        "id": "DNceBCWXs2Oy",
        "outputId": "8fa0cc37-6f2b-436a-f94c-e121332c523b"
      },
      "execution_count": null,
      "outputs": [
        {
          "output_type": "execute_result",
          "data": {
            "text/plain": [
              "[0, 2, 3, 4, 5]"
            ]
          },
          "metadata": {},
          "execution_count": 20
        }
      ]
    },
    {
      "cell_type": "code",
      "source": [],
      "metadata": {
        "id": "wlt4xIa1vzgc"
      },
      "execution_count": null,
      "outputs": []
    }
  ],
  "metadata": {
    "colab": {
      "provenance": [],
      "authorship_tag": "ABX9TyNuumXGfUj5K10YvzLbJGI+",
      "include_colab_link": true
    },
    "kernelspec": {
      "display_name": "Python 3",
      "name": "python3"
    },
    "language_info": {
      "name": "python"
    }
  },
  "nbformat": 4,
  "nbformat_minor": 0
}