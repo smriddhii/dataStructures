{
  "nbformat": 4,
  "nbformat_minor": 0,
  "metadata": {
    "colab": {
      "provenance": [],
      "authorship_tag": "ABX9TyMO3qoL9v7BxZNj8ahZD5SU",
      "include_colab_link": true
    },
    "kernelspec": {
      "name": "python3",
      "display_name": "Python 3"
    },
    "language_info": {
      "name": "python"
    }
  },
  "cells": [
    {
      "cell_type": "markdown",
      "metadata": {
        "id": "view-in-github",
        "colab_type": "text"
      },
      "source": [
        "<a href=\"https://colab.research.google.com/github/smriddhii/dataStructures/blob/main/Queue.ipynb\" target=\"_parent\"><img src=\"https://colab.research.google.com/assets/colab-badge.svg\" alt=\"Open In Colab\"/></a>"
      ]
    },
    {
      "cell_type": "code",
      "execution_count": 1,
      "metadata": {
        "id": "vvL2p1EuDEz3"
      },
      "outputs": [],
      "source": [
        "# array representation -\n",
        "class Queue:\n",
        "\t\t# constructor\n",
        "\tdef __init__(self, cap):\n",
        "\t\tself.cap = cap\n",
        "\t\tself.front = 0\n",
        "\t\tself.size = 0\n",
        "\t\tself.rear = cap - 1\n",
        "\t\tself.arr = [0] * cap\n",
        "\n",
        "\t# Function to create a queue of given capacity\n",
        "\t# It initializes size of queue as 0\n",
        "\tdef createQueue(self):\n",
        "\t\treturn Queue(self.cap)"
      ]
    },
    {
      "cell_type": "code",
      "source": [
        "class Queue:\n",
        "\n",
        "    # To initialize the object.\n",
        "    def __init__(self, c):\n",
        "\n",
        "        self.queue = []\n",
        "        self.front = self.rear = 0\n",
        "        self.capacity = c\n",
        "\n",
        "    # Function to insert an element\n",
        "    # at the rear of the queue\n",
        "    def queueEnqueue(self, data):\n",
        "\n",
        "        # Check queue is full or not\n",
        "        if(self.capacity == self.rear):\n",
        "            print(\"\\nQueue is full\")\n",
        "\n",
        "        # Insert element at the rear\n",
        "        else:\n",
        "            self.queue.append(data)\n",
        "            self.rear += 1\n",
        "\n",
        "    # Function to delete an element\n",
        "    # from the front of the queue\n",
        "    def queueDequeue(self):\n",
        "\n",
        "        # If queue is empty\n",
        "        if(self.front == self.rear):\n",
        "            print(\"Queue is empty\")\n",
        "\n",
        "        # Pop the front element from list\n",
        "        else:\n",
        "            x = self.queue.pop(0)\n",
        "            self.rear -= 1\n",
        "\n",
        "    # Function to print queue elements\n",
        "    def queueDisplay(self):\n",
        "\n",
        "        if(self.front == self.rear):\n",
        "            print(\"\\nQueue is Empty\")\n",
        "\n",
        "        # Traverse front to rear to\n",
        "        # print elements\n",
        "        for i in self.queue:\n",
        "            print(i, \"<--\", end='')\n",
        "\n",
        "    # Print front of queue\n",
        "    def queueFront(self):\n",
        "\n",
        "        if(self.front == self.rear):\n",
        "            print(\"\\nQueue is Empty\")\n",
        "\n",
        "        print(\"\\nFront Element is:\",\n",
        "              self.queue[self.front])\n",
        "\n",
        "\n",
        "# Driver code\n",
        "if __name__ == '__main__':\n",
        "\n",
        "    # Create a new queue of\n",
        "    # capacity 4\n",
        "    q = Queue(4)\n",
        "\n",
        "    # Print queue elements\n",
        "    q.queueDisplay()\n",
        "\n",
        "    # Inserting elements in the queue\n",
        "    q.queueEnqueue(20)\n",
        "    q.queueEnqueue(30)\n",
        "    q.queueEnqueue(40)\n",
        "    q.queueEnqueue(50)\n",
        "\n",
        "    # Print queue elements\n",
        "    q.queueDisplay()\n",
        "\n",
        "    # Insert element in queue\n",
        "    q.queueEnqueue(60)\n",
        "\n",
        "    # Print queue elements\n",
        "    q.queueDisplay()\n",
        "\n",
        "    q.queueDequeue()\n",
        "    q.queueDequeue()\n",
        "    print(\"\\n\\nafter two node deletion\\n\")\n",
        "\n",
        "    # Print queue elements\n",
        "    q.queueDisplay()\n",
        "\n",
        "    # Print front of queue\n",
        "    q.queueFront()"
      ],
      "metadata": {
        "colab": {
          "base_uri": "https://localhost:8080/"
        },
        "id": "l9xjU-RuE4b2",
        "outputId": "70450cd8-92db-40dc-f99e-7842e5c72ef0"
      },
      "execution_count": 2,
      "outputs": [
        {
          "output_type": "stream",
          "name": "stdout",
          "text": [
            "\n",
            "Queue is Empty\n",
            "20 <--30 <--40 <--50 <--\n",
            "Queue is full\n",
            "20 <--30 <--40 <--50 <--\n",
            "\n",
            "after two node deletion\n",
            "\n",
            "40 <--50 <--\n",
            "Front Element is: 40\n"
          ]
        }
      ]
    },
    {
      "cell_type": "code",
      "source": [
        "# linked list implementation -\n",
        "class Node:\n",
        "\n",
        "\tdef __init__(self, data):\n",
        "\t\tself.data = data\n",
        "\t\tself.next = None\n",
        "\n",
        "# A class to represent a queue\n",
        "\n",
        "# The queue, front stores the front node\n",
        "# of LL and rear stores the last node of LL\n",
        "\n",
        "\n",
        "class Queue:\n",
        "\n",
        "\tdef __init__(self):\n",
        "\t\tself.front = self.rear = None\n",
        "\n",
        "\tdef isEmpty(self):\n",
        "\t\treturn self.front == None\n",
        "\n",
        "\t# Method to add an item to the queue\n",
        "\tdef EnQueue(self, item):\n",
        "\t\ttemp = Node(item)\n",
        "\n",
        "\t\tif self.rear == None:\n",
        "\t\t\tself.front = self.rear = temp\n",
        "\t\t\treturn\n",
        "\t\tself.rear.next = temp\n",
        "\t\tself.rear = temp\n",
        "\n",
        "\t# Method to remove an item from queue\n",
        "\tdef DeQueue(self):\n",
        "\n",
        "\t\tif self.isEmpty():\n",
        "\t\t\treturn\n",
        "\t\ttemp = self.front\n",
        "\t\tself.front = temp.next\n",
        "\n",
        "\t\tif(self.front == None):\n",
        "\t\t\tself.rear = None\n",
        "\n",
        "\n",
        "# Driver Code\n",
        "if __name__ == '__main__':\n",
        "\tq = Queue()\n",
        "\tq.EnQueue(10)\n",
        "\tq.EnQueue(20)\n",
        "\tq.DeQueue()\n",
        "\tq.DeQueue()\n",
        "\tq.EnQueue(30)\n",
        "\tq.EnQueue(40)\n",
        "\tq.EnQueue(50)\n",
        "\tq.DeQueue()\n",
        "\tprint(\"Queue Front : \" + str(q.front.data))\n",
        "\tprint(\"Queue Rear : \" + str(q.rear.data))"
      ],
      "metadata": {
        "colab": {
          "base_uri": "https://localhost:8080/"
        },
        "id": "JWXHnKt1Hwok",
        "outputId": "09d3dca9-b222-4cb8-903a-bcaf19b719d8"
      },
      "execution_count": 3,
      "outputs": [
        {
          "output_type": "stream",
          "name": "stdout",
          "text": [
            "Queue Front : 40\n",
            "Queue Rear : 50\n"
          ]
        }
      ]
    },
    {
      "cell_type": "code",
      "source": [],
      "metadata": {
        "id": "-yDGSoI9NYlV"
      },
      "execution_count": null,
      "outputs": []
    }
  ]
}