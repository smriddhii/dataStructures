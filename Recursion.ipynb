{
  "nbformat": 4,
  "nbformat_minor": 0,
  "metadata": {
    "colab": {
      "provenance": [],
      "authorship_tag": "ABX9TyPcER7HWpPW6YP1rlnmg6FF",
      "include_colab_link": true
    },
    "kernelspec": {
      "name": "python3",
      "display_name": "Python 3"
    },
    "language_info": {
      "name": "python"
    }
  },
  "cells": [
    {
      "cell_type": "markdown",
      "metadata": {
        "id": "view-in-github",
        "colab_type": "text"
      },
      "source": [
        "<a href=\"https://colab.research.google.com/github/smriddhii/dataStructures/blob/main/Recursion.ipynb\" target=\"_parent\"><img src=\"https://colab.research.google.com/assets/colab-badge.svg\" alt=\"Open In Colab\"/></a>"
      ]
    },
    {
      "cell_type": "code",
      "execution_count": null,
      "metadata": {
        "colab": {
          "base_uri": "https://localhost:8080/"
        },
        "id": "OAHfpiCK_DHh",
        "outputId": "c66cd24a-2428-4800-92f9-e636d445fa39"
      },
      "outputs": [
        {
          "output_type": "execute_result",
          "data": {
            "text/plain": [
              "24"
            ]
          },
          "metadata": {},
          "execution_count": 1
        }
      ],
      "source": [
        "# factorial\n",
        "\n",
        "def fact(n):\n",
        "  if n == 0:\n",
        "    return 1\n",
        "  else:\n",
        "    return n*fact(n-1)\n",
        "\n",
        "fact(4)"
      ]
    },
    {
      "cell_type": "code",
      "source": [
        "# fibonnaci\n",
        "\n",
        "def fib(n):\n",
        "  if n == 0:\n",
        "    return 0\n",
        "\n",
        "  elif n == 1:\n",
        "    return 1\n",
        "\n",
        "  else:\n",
        "    return fib(n-1) + fib(n-2)\n",
        "\n",
        "\n",
        "fib(10)"
      ],
      "metadata": {
        "colab": {
          "base_uri": "https://localhost:8080/"
        },
        "id": "Ar2krDMH_Smc",
        "outputId": "557ad90c-ae21-45ee-de90-d7dbc1738dc6"
      },
      "execution_count": null,
      "outputs": [
        {
          "output_type": "execute_result",
          "data": {
            "text/plain": [
              "55"
            ]
          },
          "metadata": {},
          "execution_count": 2
        }
      ]
    },
    {
      "cell_type": "code",
      "source": [
        "# print 1 to N using recursion\n",
        "\n",
        "def printn(n):\n",
        "  if n == 0:\n",
        "    return\n",
        "\n",
        "  printn(n-1)\n",
        "  print(n)\n",
        "\n",
        "printn(5)"
      ],
      "metadata": {
        "colab": {
          "base_uri": "https://localhost:8080/"
        },
        "id": "SS_fAMed_lHf",
        "outputId": "f4dcdfd7-2548-4cd9-bf79-691d5f457b7a"
      },
      "execution_count": null,
      "outputs": [
        {
          "output_type": "stream",
          "name": "stdout",
          "text": [
            "1\n",
            "2\n",
            "3\n",
            "4\n",
            "5\n"
          ]
        }
      ]
    },
    {
      "cell_type": "code",
      "source": [
        "# print N to 1 using recursion\n",
        "\n",
        "def printNto1(n):\n",
        "  if n == 0:\n",
        "    return 1\n",
        "\n",
        "  print(n)\n",
        "  printNto1(n-1)\n",
        "\n",
        "printNto1(5)"
      ],
      "metadata": {
        "colab": {
          "base_uri": "https://localhost:8080/"
        },
        "id": "W3GdO_btAFjB",
        "outputId": "9d1115f3-ad78-4575-8ade-88a0dcb9b351"
      },
      "execution_count": null,
      "outputs": [
        {
          "output_type": "stream",
          "name": "stdout",
          "text": [
            "5\n",
            "4\n",
            "3\n",
            "2\n",
            "1\n"
          ]
        }
      ]
    },
    {
      "cell_type": "code",
      "source": [
        "# sum of digits using recursion\n",
        "\n",
        "def sumOfDig(n):\n",
        "  if n < 10:\n",
        "    return n\n",
        "\n",
        "  return sumOfDig(n//10) + n%10\n",
        "\n",
        "\n",
        "sumOfDig(123)\n"
      ],
      "metadata": {
        "colab": {
          "base_uri": "https://localhost:8080/"
        },
        "id": "yTBamq4TA5UK",
        "outputId": "acd135a5-b54b-4899-c9bc-02f216aca346"
      },
      "execution_count": null,
      "outputs": [
        {
          "output_type": "execute_result",
          "data": {
            "text/plain": [
              "6"
            ]
          },
          "metadata": {},
          "execution_count": 6
        }
      ]
    },
    {
      "cell_type": "code",
      "source": [
        "def isPalindrome(str, start, end):\n",
        "  if start >= end:\n",
        "    return True\n",
        "\n",
        "  return (str[start] == str[end] and isPalindrome(str, start + 1, end - 1))"
      ],
      "metadata": {
        "id": "XD7zEqB_CCX4"
      },
      "execution_count": null,
      "outputs": []
    },
    {
      "cell_type": "code",
      "source": [
        "isPalindrome('abbcbba', 0, 6)"
      ],
      "metadata": {
        "colab": {
          "base_uri": "https://localhost:8080/"
        },
        "id": "M5-MaFtMRJOe",
        "outputId": "99408761-6f11-461e-cb94-943266504ba8"
      },
      "execution_count": null,
      "outputs": [
        {
          "output_type": "execute_result",
          "data": {
            "text/plain": [
              "True"
            ]
          },
          "metadata": {},
          "execution_count": 9
        }
      ]
    },
    {
      "cell_type": "code",
      "source": [
        "# count total digits in a number\n",
        "def countDigits(n):\n",
        "\n",
        "        if n//10 == 0:\n",
        "            return 1\n",
        "        return 1 + countDigits(n // 10)\n",
        "\n",
        "countDigits(1234)"
      ],
      "metadata": {
        "colab": {
          "base_uri": "https://localhost:8080/"
        },
        "id": "CMlp8JA_RgdS",
        "outputId": "9ee3e499-288f-41a8-bbeb-18722fce2790"
      },
      "execution_count": null,
      "outputs": [
        {
          "output_type": "execute_result",
          "data": {
            "text/plain": [
              "4"
            ]
          },
          "metadata": {},
          "execution_count": 1
        }
      ]
    },
    {
      "cell_type": "code",
      "source": [
        "# find nCr\n",
        "def nCr(n,r):\n",
        "\n",
        "    if(n < r):\n",
        "        return 0\n",
        "    if(r == 0):\n",
        "        return 1\n",
        "    if(r == 1):\n",
        "        return n\n",
        "    if(n == 1):\n",
        "        return 1\n",
        "    return nCr(n - 1, r - 1) + nCr(n - 1, r)\n",
        "\n",
        "nCr(4,2)"
      ],
      "metadata": {
        "colab": {
          "base_uri": "https://localhost:8080/"
        },
        "id": "kUc1HDofuULR",
        "outputId": "69025367-97fb-4922-a9f4-c98ce6787ba9"
      },
      "execution_count": null,
      "outputs": [
        {
          "output_type": "execute_result",
          "data": {
            "text/plain": [
              "6"
            ]
          },
          "metadata": {},
          "execution_count": 2
        }
      ]
    },
    {
      "cell_type": "code",
      "source": [
        "# Find GCD using recursion\n",
        "def GCD(a,b):\n",
        "\n",
        "        if(b==0):\n",
        "            return a\n",
        "        else:\n",
        "            return GCD(b,a%b)\n",
        "\n",
        "GCD(5,10)"
      ],
      "metadata": {
        "colab": {
          "base_uri": "https://localhost:8080/"
        },
        "id": "ZuOmxRRoufz0",
        "outputId": "96d19aa4-32e8-4a9d-d933-814de4a5bf13"
      },
      "execution_count": null,
      "outputs": [
        {
          "output_type": "execute_result",
          "data": {
            "text/plain": [
              "5"
            ]
          },
          "metadata": {},
          "execution_count": 3
        }
      ]
    },
    {
      "cell_type": "code",
      "source": [],
      "metadata": {
        "id": "Zk6h-UGnuu4I"
      },
      "execution_count": null,
      "outputs": []
    }
  ]
}