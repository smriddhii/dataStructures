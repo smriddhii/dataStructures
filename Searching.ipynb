{
  "nbformat": 4,
  "nbformat_minor": 0,
  "metadata": {
    "colab": {
      "provenance": [],
      "authorship_tag": "ABX9TyOpkMi7GrB92/D7ruLxc85C",
      "include_colab_link": true
    },
    "kernelspec": {
      "name": "python3",
      "display_name": "Python 3"
    },
    "language_info": {
      "name": "python"
    }
  },
  "cells": [
    {
      "cell_type": "markdown",
      "metadata": {
        "id": "view-in-github",
        "colab_type": "text"
      },
      "source": [
        "<a href=\"https://colab.research.google.com/github/smriddhii/dataStructures/blob/main/Searching.ipynb\" target=\"_parent\"><img src=\"https://colab.research.google.com/assets/colab-badge.svg\" alt=\"Open In Colab\"/></a>"
      ]
    },
    {
      "cell_type": "markdown",
      "source": [
        "# Binary Search"
      ],
      "metadata": {
        "id": "xcD8UKcx5_um"
      }
    },
    {
      "cell_type": "code",
      "source": [
        "# practice on own-\n",
        "\n",
        "l = [10,20,30,40,50,60]\n",
        "x = 60\n",
        "\n",
        "for i in range(0,5):\n",
        "  if l[i] == x:\n",
        "    ans = i\n",
        "\n",
        "print (ans)"
      ],
      "metadata": {
        "colab": {
          "base_uri": "https://localhost:8080/"
        },
        "id": "3wqTx5ZW6Fve",
        "outputId": "ab485d22-b1f3-45cd-f116-25a2533c21f7"
      },
      "execution_count": null,
      "outputs": [
        {
          "output_type": "stream",
          "name": "stdout",
          "text": [
            "2\n"
          ]
        }
      ]
    },
    {
      "cell_type": "code",
      "source": [
        "#binary search-\n",
        "\n",
        "def bsearch(l,x):\n",
        "  low = 0\n",
        "  high = len(l) - 1\n",
        "  while low <= high:\n",
        "    mid = (low + high) // 2\n",
        "\n",
        "    if l[mid] == x:\n",
        "      return mid\n",
        "\n",
        "    elif l[mid] < x:\n",
        "      low = mid + 1\n",
        "\n",
        "    else:\n",
        "      high = mid - 1\n",
        "\n",
        "  return -1\n",
        "\n",
        "bsearch([10,20,30,40,50,60], 40)"
      ],
      "metadata": {
        "colab": {
          "base_uri": "https://localhost:8080/"
        },
        "id": "LUbv_SZp6TXc",
        "outputId": "72f8b151-ebb3-4f11-bbb5-9ac6b55b1fc4"
      },
      "execution_count": null,
      "outputs": [
        {
          "output_type": "execute_result",
          "data": {
            "text/plain": [
              "3"
            ]
          },
          "metadata": {},
          "execution_count": 16
        }
      ]
    },
    {
      "cell_type": "code",
      "source": [
        "# recursive implementation of binary search\n",
        "\n",
        "def bsearch(arr, l, h, x):\n",
        "\n",
        "  while l <= h:\n",
        "    mid = (l + h) // 2\n",
        "\n",
        "    if arr[mid] == x:\n",
        "      return mid\n",
        "\n",
        "    elif arr[mid] < x:\n",
        "      return bsearch(arr, mid + 1, h, x)\n",
        "\n",
        "    elif arr[mid] > x:\n",
        "      return bsearch(arr, l, mid - 1, x)\n",
        "\n",
        "bsearch([10,20,30,40,50,60] , 0 ,5, 30)"
      ],
      "metadata": {
        "colab": {
          "base_uri": "https://localhost:8080/"
        },
        "id": "xvU3obIJ8akC",
        "outputId": "4866b3f1-36ef-4ba5-f459-c925db33e04c"
      },
      "execution_count": null,
      "outputs": [
        {
          "output_type": "execute_result",
          "data": {
            "text/plain": [
              "2"
            ]
          },
          "metadata": {},
          "execution_count": 19
        }
      ]
    },
    {
      "cell_type": "code",
      "source": [
        "# returns index of the first occurence of the given element\n",
        "\n",
        "def firstIndex(arr, x):\n",
        "  low = 0\n",
        "  high = len(arr) - 1\n",
        "  while low <= high:\n",
        "    mid = (low + high) // 2\n",
        "    if x > arr[mid]:\n",
        "      low = mid + 1\n",
        "\n",
        "    elif arr[mid] > x:\n",
        "      high = mid - 1\n",
        "\n",
        "    else:\n",
        "      if mid == 0 or arr[mid - 1] != arr[mid]:\n",
        "        return mid\n",
        "      else:\n",
        "        high = mid - 1\n",
        "\n",
        "  return -1\n",
        "\n",
        "firstIndex([5,10,10,20,20], 20)\n"
      ],
      "metadata": {
        "colab": {
          "base_uri": "https://localhost:8080/"
        },
        "id": "meyrCwPh_rfw",
        "outputId": "c09d4209-867b-417e-b6cb-f91392cd4e0e"
      },
      "execution_count": null,
      "outputs": [
        {
          "output_type": "execute_result",
          "data": {
            "text/plain": [
              "3"
            ]
          },
          "metadata": {},
          "execution_count": 21
        }
      ]
    },
    {
      "cell_type": "code",
      "source": [
        "# returns index of last occurence of element-\n",
        "\n",
        "def lastocc(arr, x):\n",
        "  low = 0\n",
        "  high = len(arr) - 1\n",
        "  while low <= high:\n",
        "    mid = (low + high) // 2\n",
        "\n",
        "    if arr[mid] > x:\n",
        "      high = mid - 1\n",
        "\n",
        "    elif arr[mid] < x:\n",
        "      low = mid + 1\n",
        "\n",
        "    else: # if arr[mid] == x\n",
        "      if mid == len(arr) - 1 or arr[mid] != arr[mid + 1]:\n",
        "        return mid\n",
        "\n",
        "      else:\n",
        "        low = mid + 1\n",
        "  return -1\n",
        "\n",
        "\n",
        "lastocc([5,10,10,10,20,20], 10)"
      ],
      "metadata": {
        "colab": {
          "base_uri": "https://localhost:8080/"
        },
        "id": "yRp3quuFL_Ne",
        "outputId": "fb6bdbef-0f05-492f-d091-b176a1baa863"
      },
      "execution_count": null,
      "outputs": [
        {
          "output_type": "execute_result",
          "data": {
            "text/plain": [
              "3"
            ]
          },
          "metadata": {},
          "execution_count": 25
        }
      ]
    },
    {
      "cell_type": "code",
      "source": [
        "# count occurences in an array\n",
        "\n",
        "def countocc(arr, x):\n",
        "  first = firstIndex([10,20,20,20,30,30], 20)\n",
        "  if first == -1:\n",
        "    return 0\n",
        "\n",
        "  else:\n",
        "    return lastocc([10,20,20,20,30,30], 20) - first + 1\n",
        "\n",
        "countocc([10,20,20,20,30,30], 20)"
      ],
      "metadata": {
        "colab": {
          "base_uri": "https://localhost:8080/"
        },
        "id": "aTEfLQ0ndRsE",
        "outputId": "35f678a6-b183-4d8a-d132-45ca9462737a"
      },
      "execution_count": null,
      "outputs": [
        {
          "output_type": "execute_result",
          "data": {
            "text/plain": [
              "3"
            ]
          },
          "metadata": {},
          "execution_count": 29
        }
      ]
    },
    {
      "cell_type": "code",
      "source": [
        "# square root using binary search:\n",
        "\n",
        "def sqrt(x):\n",
        "  low = 1\n",
        "  high = x\n",
        "  ans = -1\n",
        "  while low <= high:\n",
        "    mid = (low + high) // 2\n",
        "    mSq = mid * mid\n",
        "    if mSq == x :\n",
        "      return mid\n",
        "\n",
        "    elif mSq > x:\n",
        "      high = mid - 1\n",
        "\n",
        "    else:\n",
        "      low = mid + 1\n",
        "      ans = mid\n",
        "  return ans\n",
        "\n",
        "sqrt(64)"
      ],
      "metadata": {
        "colab": {
          "base_uri": "https://localhost:8080/"
        },
        "id": "ta7iGd9ye-tI",
        "outputId": "1a7a1d7b-1d5b-4b5c-810e-4e22f3ce5821"
      },
      "execution_count": null,
      "outputs": [
        {
          "output_type": "execute_result",
          "data": {
            "text/plain": [
              "8"
            ]
          },
          "metadata": {},
          "execution_count": 30
        }
      ]
    },
    {
      "cell_type": "code",
      "source": [
        "# peak element\n",
        "\n",
        "def peak(arr, n):\n",
        "  if (n == 1) :\n",
        "      return 0\n",
        "  if (arr[0] >= arr[1]) :\n",
        "        return 0\n",
        "  if (arr[n - 1] >= arr[n - 2]) :\n",
        "        return n - 1\n",
        "\n",
        "  # check for every other element\n",
        "  for i in range(1, n - 1) :\n",
        "\n",
        "      # check if the neighbors are smaller\n",
        "      if (arr[i] >= arr[i - 1] and arr[i] >= arr[i + 1]) :\n",
        "          return i"
      ],
      "metadata": {
        "id": "VtQHXaR7hahM"
      },
      "execution_count": 3,
      "outputs": []
    },
    {
      "cell_type": "code",
      "source": [],
      "metadata": {
        "id": "Ja3jkjFAPS4N"
      },
      "execution_count": null,
      "outputs": []
    }
  ]
}