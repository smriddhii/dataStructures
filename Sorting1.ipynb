{
  "nbformat": 4,
  "nbformat_minor": 0,
  "metadata": {
    "colab": {
      "provenance": [],
      "authorship_tag": "ABX9TyPufe5Km/sMxg+bgIeb2oTE",
      "include_colab_link": true
    },
    "kernelspec": {
      "name": "python3",
      "display_name": "Python 3"
    },
    "language_info": {
      "name": "python"
    }
  },
  "cells": [
    {
      "cell_type": "markdown",
      "metadata": {
        "id": "view-in-github",
        "colab_type": "text"
      },
      "source": [
        "<a href=\"https://colab.research.google.com/github/smriddhii/dataStructures/blob/main/Sorting1.ipynb\" target=\"_parent\"><img src=\"https://colab.research.google.com/assets/colab-badge.svg\" alt=\"Open In Colab\"/></a>"
      ]
    },
    {
      "cell_type": "code",
      "execution_count": null,
      "metadata": {
        "colab": {
          "base_uri": "https://localhost:8080/"
        },
        "id": "Hff2IP5ZQ2LG",
        "outputId": "30df0138-936f-4233-b9b7-eb50540b4f8a"
      },
      "outputs": [
        {
          "output_type": "stream",
          "name": "stdout",
          "text": [
            "[1, 5, 10, 15]\n"
          ]
        }
      ],
      "source": [
        "l1 = [5, 10, 15, 1]\n",
        "l1.sort()\n",
        "print(l1)"
      ]
    },
    {
      "cell_type": "code",
      "source": [
        "l2 = [1, 5, 3, 10]\n",
        "l2.sort(reverse=True)\n",
        "print(l2)"
      ],
      "metadata": {
        "colab": {
          "base_uri": "https://localhost:8080/"
        },
        "id": "wVDrgyQgRAhk",
        "outputId": "ae02d992-6395-475b-aad3-84a22ebae800"
      },
      "execution_count": null,
      "outputs": [
        {
          "output_type": "stream",
          "name": "stdout",
          "text": [
            "[10, 5, 3, 1]\n"
          ]
        }
      ]
    },
    {
      "cell_type": "code",
      "source": [
        "l3 = ['gfg', 'ide', 'courses']\n",
        "l3.sort()\n",
        "print(l3)"
      ],
      "metadata": {
        "colab": {
          "base_uri": "https://localhost:8080/"
        },
        "id": "s_wYturKRLKL",
        "outputId": "788d8cc1-b7b3-4770-d436-a12292ae5200"
      },
      "execution_count": null,
      "outputs": [
        {
          "output_type": "stream",
          "name": "stdout",
          "text": [
            "['courses', 'gfg', 'ide']\n"
          ]
        }
      ]
    },
    {
      "cell_type": "code",
      "source": [
        "#sorts acc to length of elements\n",
        "def myFun(s):\n",
        "    return len(s)\n",
        "\n",
        "\n",
        "l = ['gfg', 'courses', 'python']\n",
        "l.sort(key=myFun)\n",
        "print(l)\n"
      ],
      "metadata": {
        "colab": {
          "base_uri": "https://localhost:8080/"
        },
        "id": "AagOhLSEROO4",
        "outputId": "97314e59-51d9-41d6-9e3b-88075db92ce7"
      },
      "execution_count": null,
      "outputs": [
        {
          "output_type": "stream",
          "name": "stdout",
          "text": [
            "['gfg', 'python', 'courses']\n"
          ]
        }
      ]
    },
    {
      "cell_type": "code",
      "source": [
        "#sorts acc to multiplication of points\n",
        "class Point:\n",
        "\n",
        "    def __init__(self, x, y):\n",
        "        self.x = x\n",
        "        self.y = y\n",
        "\n",
        "\n",
        "def myFun(p):\n",
        "    return p.x\n",
        "\n",
        "\n",
        "l = [Point(1, 15), Point(10, 5), Point(3, 8)]\n",
        "l.sort(key=myFun)\n",
        "\n",
        "for i in l:\n",
        "    print(i.x, i.y)"
      ],
      "metadata": {
        "colab": {
          "base_uri": "https://localhost:8080/"
        },
        "id": "SzyIgaFtRSjn",
        "outputId": "6d208dfa-72cc-491f-b8e2-89166b9d0503"
      },
      "execution_count": null,
      "outputs": [
        {
          "output_type": "stream",
          "name": "stdout",
          "text": [
            "1 15\n",
            "3 8\n",
            "10 5\n"
          ]
        }
      ]
    },
    {
      "cell_type": "code",
      "source": [
        "class Point:\n",
        "\n",
        "    def __init__(self, x, y):\n",
        "        self.x = x\n",
        "        self.y = y\n",
        "\n",
        "    def __lt__(self, other):\n",
        "        return self.x < other.x\n",
        "\n",
        "\n",
        "l = [Point(1, 15), Point(10, 5), Point(5, 8)]\n",
        "l.sort()\n",
        "\n",
        "for i in l:\n",
        "    print(i.x, i.y)"
      ],
      "metadata": {
        "colab": {
          "base_uri": "https://localhost:8080/"
        },
        "id": "ybIn50S3RfKP",
        "outputId": "04d23d93-d3ab-454b-ff9b-c154dcf20468"
      },
      "execution_count": null,
      "outputs": [
        {
          "output_type": "stream",
          "name": "stdout",
          "text": [
            "1 15\n",
            "5 8\n",
            "10 5\n"
          ]
        }
      ]
    },
    {
      "cell_type": "code",
      "source": [
        "class Point:\n",
        "\n",
        "    def __init__(self, x, y):\n",
        "        self.x = x\n",
        "        self.y = y\n",
        "\n",
        "    def __lt__(self, other):\n",
        "\n",
        "        if self.x == other.x:\n",
        "            return self.y < other.y\n",
        "        else:\n",
        "            return self.x < other.x\n",
        "\n",
        "\n",
        "l = [Point(1, 15), Point(10, 5), Point(1, 8)]\n",
        "l.sort()\n",
        "\n",
        "for i in l:\n",
        "    print(i.x, i.y)"
      ],
      "metadata": {
        "colab": {
          "base_uri": "https://localhost:8080/"
        },
        "id": "5VyoRCSXRmVZ",
        "outputId": "092a6e08-5f9d-41d3-f43d-d99760fbc1c8"
      },
      "execution_count": null,
      "outputs": [
        {
          "output_type": "stream",
          "name": "stdout",
          "text": [
            "1 8\n",
            "1 15\n",
            "10 5\n"
          ]
        }
      ]
    },
    {
      "cell_type": "code",
      "source": [
        "l = [10, 20, 14]\n",
        "ls = sorted(l)\n",
        "\n",
        "print(l)\n",
        "print(ls)\n",
        "\n",
        "l = [10, -15, -2, 1]\n",
        "ls = sorted(l, key=abs, reverse=True)\n",
        "print(ls)"
      ],
      "metadata": {
        "colab": {
          "base_uri": "https://localhost:8080/"
        },
        "id": "A2m9klEsR03c",
        "outputId": "bdbd17e0-00ee-4b15-d625-917f2a77f73c"
      },
      "execution_count": null,
      "outputs": [
        {
          "output_type": "stream",
          "name": "stdout",
          "text": [
            "[10, 20, 14]\n",
            "[10, 14, 20]\n",
            "[-15, 10, -2, 1]\n"
          ]
        }
      ]
    },
    {
      "cell_type": "code",
      "source": [
        "t = (10,12,5,1)\n",
        "print(sorted(t))\n",
        "\n",
        "s = {'gfg','courses','python'}\n",
        "print(sorted(s))\n",
        "\n",
        "st = 'gfg'\n",
        "print(sorted(st))\n",
        "\n",
        "d = {10:'gfg',15:'ide',5:'courses'}\n",
        "print(sorted(d))\n",
        "\n",
        "l = [(10,15),(1,8),(2,3)]\n",
        "print(sorted(l))"
      ],
      "metadata": {
        "colab": {
          "base_uri": "https://localhost:8080/"
        },
        "id": "w7a5Wku4TNOD",
        "outputId": "267de118-4dbb-4910-8f33-4af20d67789a"
      },
      "execution_count": null,
      "outputs": [
        {
          "output_type": "stream",
          "name": "stdout",
          "text": [
            "[1, 5, 10, 12]\n",
            "['courses', 'gfg', 'python']\n",
            "['f', 'g', 'g']\n",
            "[5, 10, 15]\n",
            "[(1, 8), (2, 3), (10, 15)]\n"
          ]
        }
      ]
    },
    {
      "cell_type": "code",
      "source": [
        "# Bubble Sort\n",
        "\n",
        "def bubbleSort(l):\n",
        "  n = len(l)\n",
        "\n",
        "  for i in range(n -1):\n",
        "    for j in range(n - i -1):\n",
        "      if l[j] > l[j + 1]:\n",
        "        l[j], l[j+1] = l[j+1], l[j]\n",
        "  return l\n",
        "l = [10, 8, 20, 5]\n",
        "\n",
        "bubbleSort(l)"
      ],
      "metadata": {
        "colab": {
          "base_uri": "https://localhost:8080/"
        },
        "id": "VPr8ZaIcTUCY",
        "outputId": "b1b075b7-2707-4ba1-e3db-afd0b7be6afd"
      },
      "execution_count": null,
      "outputs": [
        {
          "output_type": "execute_result",
          "data": {
            "text/plain": [
              "[5, 8, 10, 20]"
            ]
          },
          "metadata": {},
          "execution_count": 12
        }
      ]
    },
    {
      "cell_type": "code",
      "source": [],
      "metadata": {
        "id": "A8UsG-Z9W8UJ"
      },
      "execution_count": null,
      "outputs": []
    }
  ]
}