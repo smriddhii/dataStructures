{
  "nbformat": 4,
  "nbformat_minor": 0,
  "metadata": {
    "colab": {
      "provenance": [],
      "authorship_tag": "ABX9TyNSQef+wCewWY/9GX0e41lE",
      "include_colab_link": true
    },
    "kernelspec": {
      "name": "python3",
      "display_name": "Python 3"
    },
    "language_info": {
      "name": "python"
    }
  },
  "cells": [
    {
      "cell_type": "markdown",
      "metadata": {
        "id": "view-in-github",
        "colab_type": "text"
      },
      "source": [
        "<a href=\"https://colab.research.google.com/github/smriddhii/dataStructures/blob/main/Sorting2.ipynb\" target=\"_parent\"><img src=\"https://colab.research.google.com/assets/colab-badge.svg\" alt=\"Open In Colab\"/></a>"
      ]
    },
    {
      "cell_type": "code",
      "execution_count": 4,
      "metadata": {
        "colab": {
          "base_uri": "https://localhost:8080/"
        },
        "id": "g_sQy6pZW9Hc",
        "outputId": "9efd5ce6-2849-4955-a7bc-73cdfe336e11"
      },
      "outputs": [
        {
          "output_type": "execute_result",
          "data": {
            "text/plain": [
              "[2, 5, 8, 10, 18, 20]"
            ]
          },
          "metadata": {},
          "execution_count": 4
        }
      ],
      "source": [
        " # Selection sort-\n",
        "def selectionSort(arr):\n",
        "  n = len(arr)\n",
        "  for i in range(n-1):\n",
        "    min_ind = i\n",
        "    for j in range(i+1, n):\n",
        "      if arr[j] < arr[min_ind]:\n",
        "        min_ind = j\n",
        "    arr[min_ind], arr[i] = arr[i] , arr[min_ind]\n",
        "  return arr\n",
        "\n",
        "selectionSort([10,5,8,20,2,18])"
      ]
    },
    {
      "cell_type": "code",
      "source": [
        "# Insertion Sort-\n",
        "\n",
        "def insertionSort(l):\n",
        "  n = len(l)\n",
        "  for i in range(1, n):\n",
        "    x = l[i]\n",
        "    j = i-1\n",
        "    while j >= 0 and x <= l[j]:\n",
        "      l[j+1] = l[j]\n",
        "      j = j-1\n",
        "    l[j+1] = x\n",
        "  return l\n",
        "\n",
        "insertionSort([12,11,13,5,6])\n"
      ],
      "metadata": {
        "colab": {
          "base_uri": "https://localhost:8080/"
        },
        "id": "WPzLIFT1YWzn",
        "outputId": "ba52c0af-d6f2-43a8-9374-b25f5c2b9c9b"
      },
      "execution_count": 7,
      "outputs": [
        {
          "output_type": "execute_result",
          "data": {
            "text/plain": [
              "[5, 6, 11, 12, 13]"
            ]
          },
          "metadata": {},
          "execution_count": 7
        }
      ]
    },
    {
      "cell_type": "code",
      "source": [
        "# merge two sorted arrays-\n",
        "def merge(a, b):\n",
        "    res = a + b\n",
        "    res.sort()\n",
        "\n",
        "    return res\n",
        "\n",
        "\n",
        "a = [10, 15, 30]\n",
        "b = [2, 20]\n",
        "\n",
        "print(*merge(a, b))\n"
      ],
      "metadata": {
        "colab": {
          "base_uri": "https://localhost:8080/"
        },
        "id": "LKVKhRSGhHGW",
        "outputId": "335572b8-04d9-4bee-e8c7-3cafb32cfe85"
      },
      "execution_count": 1,
      "outputs": [
        {
          "output_type": "stream",
          "name": "stdout",
          "text": [
            "2 10 15 20 30\n"
          ]
        }
      ]
    },
    {
      "cell_type": "code",
      "source": [
        "#merge sort-\n",
        "def merge(a, b):\n",
        "    res = []\n",
        "\n",
        "    m = len(a)\n",
        "    n = len(b)\n",
        "    i = j = 0\n",
        "\n",
        "    while i < m and j < n:\n",
        "        if a[i] < b[j]:\n",
        "            res.append(a[i])\n",
        "            i += 1\n",
        "        else:\n",
        "            res.append(b[j])\n",
        "            j += 1\n",
        "\n",
        "    while i < m:\n",
        "        res.append(a[i])\n",
        "        i += 1\n",
        "\n",
        "    while j < n:\n",
        "        res.append(b[j])\n",
        "        j += 1\n",
        "\n",
        "    return res\n",
        "\n",
        "\n",
        "a = [10, 15]\n",
        "b = [5, 6, 6, 30, 40]\n",
        "\n",
        "print(*merge(a, b))"
      ],
      "metadata": {
        "id": "ArAp0c-AgjrU"
      },
      "execution_count": null,
      "outputs": []
    }
  ]
}