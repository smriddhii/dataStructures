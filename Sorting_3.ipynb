{
  "nbformat": 4,
  "nbformat_minor": 0,
  "metadata": {
    "colab": {
      "provenance": [],
      "authorship_tag": "ABX9TyMAAl9bE5qgYUOf+kafEZEt",
      "include_colab_link": true
    },
    "kernelspec": {
      "name": "python3",
      "display_name": "Python 3"
    },
    "language_info": {
      "name": "python"
    }
  },
  "cells": [
    {
      "cell_type": "markdown",
      "metadata": {
        "id": "view-in-github",
        "colab_type": "text"
      },
      "source": [
        "<a href=\"https://colab.research.google.com/github/smriddhii/dataStructures/blob/main/Sorting_3.ipynb\" target=\"_parent\"><img src=\"https://colab.research.google.com/assets/colab-badge.svg\" alt=\"Open In Colab\"/></a>"
      ]
    },
    {
      "cell_type": "code",
      "execution_count": null,
      "metadata": {
        "colab": {
          "base_uri": "https://localhost:8080/"
        },
        "id": "q_V-RgilxkUx",
        "outputId": "04a4a9da-b7a0-480f-e969-7ed795b86655"
      },
      "outputs": [
        {
          "output_type": "execute_result",
          "data": {
            "text/plain": [
              "[8, 10, 11, 15, 20, 40, 55]"
            ]
          },
          "metadata": {},
          "execution_count": 2
        }
      ],
      "source": [
        "# Merge two subarrays\n",
        "\n",
        "def mergeSubArray(a, low, mid, high):\n",
        "  left = a[low : mid+1]\n",
        "  right = a[mid+1 : high]\n",
        "  i = j = 0\n",
        "  k = low\n",
        "  while i < len(left) and j < len(right):\n",
        "    if left[i] <= right[j]:\n",
        "      a[k] = left[i]\n",
        "      i += 1\n",
        "      k += 1\n",
        "    else:\n",
        "      a[k] = right[j]\n",
        "      j += 1\n",
        "      k += 1\n",
        "  while i < len(left):\n",
        "    a[k] = left[i]\n",
        "    i += 1\n",
        "    k += 1\n",
        "  while j < len(right):\n",
        "    a[k] = right[j]\n",
        "    j += 1\n",
        "    k += 1\n",
        "  return a\n",
        "\n",
        "mergeSubArray([10,15,20,40,8,11,55], 0, 3, 6)\n"
      ]
    },
    {
      "cell_type": "code",
      "source": [
        "# Union of 2 sorted arrays-\n",
        "def Union(a, b, n, m):\n",
        "    result = [0 for _ in range(n + m)]\n",
        "    index, left, right = 0, 0, 0\n",
        "    while left < n and right < m:\n",
        "\n",
        "        if (a[left] < b[right]):\n",
        "\n",
        "            if(index != 0 and a[left] == result[index-1]):\n",
        "                left += 1\n",
        "            else:\n",
        "                result[index] = a[left]\n",
        "                left += 1\n",
        "                index += 1\n",
        "\n",
        "        else:\n",
        "            if (index != 0 and b[right] == result[index-1]):\n",
        "\n",
        "                right += 1\n",
        "            else:\n",
        "                result[index] = b[right]\n",
        "                right += 1\n",
        "                index += 1\n",
        "\n",
        "    while(left < n):\n",
        "        if(index != 0 and a[left] == result[index-1]):\n",
        "            left += 1\n",
        "        else:\n",
        "            result[index] = a[left]\n",
        "            left += 1\n",
        "            index += 1\n",
        "\n",
        "    while(right < m):\n",
        "        if(index != 0 and b[right] == result[index - 1]):\n",
        "            right += 1\n",
        "        else:\n",
        "            result[index] = b[right]\n",
        "            right += 1\n",
        "            index += 1\n",
        "\n",
        "    print(\"Union:\", *result[:index])\n"
      ],
      "metadata": {
        "id": "3-Q0k4eYyZ__"
      },
      "execution_count": null,
      "outputs": []
    },
    {
      "cell_type": "code",
      "source": [
        "# Intersection of 2 sorted arrays-\n",
        "\n",
        "def printIntersection(arr1, arr2, m, n):\n",
        "    i, j = 0, 0\n",
        "    while i < m and j < n:\n",
        "        if arr1[i] < arr2[j]:\n",
        "            i += 1\n",
        "        elif arr2[j] < arr1[i]:\n",
        "            j+= 1\n",
        "        else:\n",
        "            print(arr2[j],end=\" \")\n",
        "            j += 1\n",
        "            i += 1\n",
        "\n",
        "# Driver program to test above function\n",
        "arr1 = [1, 2, 4, 5, 6]\n",
        "arr2 = [2, 3, 5, 7]\n",
        "m = len(arr1)\n",
        "n = len(arr2)\n",
        "printIntersection(arr1, arr2, m, n)"
      ],
      "metadata": {
        "colab": {
          "base_uri": "https://localhost:8080/"
        },
        "id": "7T0FGy0Q3R9a",
        "outputId": "a3749850-60ae-4cd5-8566-903609ec4a5c"
      },
      "execution_count": null,
      "outputs": [
        {
          "output_type": "stream",
          "name": "stdout",
          "text": [
            "2 5 "
          ]
        }
      ]
    },
    {
      "cell_type": "code",
      "source": [
        "# count inversions in an array-\n"
      ],
      "metadata": {
        "id": "sEQzFAKT33wk"
      },
      "execution_count": 1,
      "outputs": []
    },
    {
      "cell_type": "code",
      "source": [
        "#Lomuto Partition-\n",
        "\n",
        "def lomuto(arr,l,h):\n",
        "  pivot = arr[h]\n",
        "  i = l -1\n",
        "\n",
        "  for j in range(l,h):\n",
        "    if arr[j] <= pivot:\n",
        "      i = i + 1\n",
        "      arr[i], arr[j] = arr[j], arr[i]\n",
        "\n",
        "  arr[i+1], arr[h] = arr[h], arr[i+1]\n",
        "  return i + 1\n",
        "\n",
        "lomuto([10,80,30,90,50,70], 0, 5)"
      ],
      "metadata": {
        "colab": {
          "base_uri": "https://localhost:8080/"
        },
        "id": "oS91xkvdDSvV",
        "outputId": "b83d560e-d071-4701-a34c-5d5964811c52"
      },
      "execution_count": 4,
      "outputs": [
        {
          "output_type": "execute_result",
          "data": {
            "text/plain": [
              "3"
            ]
          },
          "metadata": {},
          "execution_count": 4
        }
      ]
    },
    {
      "cell_type": "code",
      "source": [
        "# hoarse partition-\n",
        "\n",
        "def hoarse(arr,l,h):\n",
        "  pivot = arr[l]\n",
        "  i = l - 1\n",
        "  j = h + 1\n",
        "  while True:\n",
        "    i = i + 1\n",
        "    while arr[i] < pivot:\n",
        "      i = i + 1\n",
        "    j = j - 1\n",
        "    while arr[j] > pivot:\n",
        "      j = j - 1\n",
        "    if i >= j:\n",
        "      return j\n",
        "    arr[i], arr[j] = arr[j], arr[i]\n",
        "\n",
        "hoarse([10,80,30,90,50,70], 0, 5)"
      ],
      "metadata": {
        "colab": {
          "base_uri": "https://localhost:8080/"
        },
        "id": "vC8rUBCyD5sy",
        "outputId": "3cc1f913-b0df-4986-e566-097e962bf1b7"
      },
      "execution_count": 1,
      "outputs": [
        {
          "output_type": "execute_result",
          "data": {
            "text/plain": [
              "0"
            ]
          },
          "metadata": {},
          "execution_count": 1
        }
      ]
    },
    {
      "cell_type": "code",
      "source": [
        "# quick sort using lomuto partition-\n",
        "\n",
        "def lomutoPartition(arr, l, h):\n",
        "  pivot = arr[h]\n",
        "  i = l - 1\n",
        "  for j in range(l,h):\n",
        "    if arr[j] <= pivot:\n",
        "      i = i + 1\n",
        "      arr[i], arr[j] = arr[j], arr[i]\n",
        "  arr[i+1], arr[h] = arr[h], arr[i+1]\n",
        "  return i + 1\n",
        "\n",
        "def qSort(arr, l, h):\n",
        "  if l<=h:\n",
        "    p = lomutoPartition(arr,l,h)\n",
        "    qSort(arr,l,p-1)\n",
        "    qSort(arr,p+1,h)\n",
        "\n",
        "arr = [8, 4, 7, 9, 3, 10, 5]\n",
        "\n",
        "qSort(arr, 0, 6)\n",
        "\n",
        "print(*arr)\n"
      ],
      "metadata": {
        "colab": {
          "base_uri": "https://localhost:8080/"
        },
        "id": "5ousp4BX6leW",
        "outputId": "c61a5395-cfc0-44f2-e2a0-7c4cb20a9a2e"
      },
      "execution_count": 4,
      "outputs": [
        {
          "output_type": "stream",
          "name": "stdout",
          "text": [
            "3 4 5 7 8 9 10\n"
          ]
        }
      ]
    },
    {
      "cell_type": "code",
      "source": [],
      "metadata": {
        "id": "fFtGJVff9Ey5"
      },
      "execution_count": null,
      "outputs": []
    }
  ]
}