{
  "nbformat": 4,
  "nbformat_minor": 0,
  "metadata": {
    "colab": {
      "provenance": [],
      "authorship_tag": "ABX9TyP+UNm8r4G931c9s8VnqVFL",
      "include_colab_link": true
    },
    "kernelspec": {
      "name": "python3",
      "display_name": "Python 3"
    },
    "language_info": {
      "name": "python"
    }
  },
  "cells": [
    {
      "cell_type": "markdown",
      "metadata": {
        "id": "view-in-github",
        "colab_type": "text"
      },
      "source": [
        "<a href=\"https://colab.research.google.com/github/smriddhii/git_test/blob/main/Stacks.ipynb\" target=\"_parent\"><img src=\"https://colab.research.google.com/assets/colab-badge.svg\" alt=\"Open In Colab\"/></a>"
      ]
    },
    {
      "cell_type": "code",
      "execution_count": null,
      "metadata": {
        "id": "bSdRkIizICnW"
      },
      "outputs": [],
      "source": [
        "class Node:\n",
        "  def __init__(self,value):\n",
        "    self.data = value\n",
        "    self.next = None"
      ]
    },
    {
      "cell_type": "code",
      "source": [
        "class Stack:\n",
        "  def __init__(self):\n",
        "    self.top = None\n",
        "\n",
        "  def isEmpty(self):\n",
        "    return self.top == None\n",
        "\n",
        "  def push(self,value):\n",
        "\n",
        "    new_node = Node(value)\n",
        "    new_node.next = self.top\n",
        "    self.top = new_node\n",
        "\n",
        "  def peek(self):\n",
        "\n",
        "    if(self.isEmpty()):\n",
        "      return 'Stack is empty'\n",
        "\n",
        "    else:\n",
        "      return self.top.data\n",
        "\n",
        "\n",
        "  def pop(self):\n",
        "    \n",
        "    if(self.isEmpty()):\n",
        "      return 'Stack is empty'\n",
        "\n",
        "    else:\n",
        "      data = self.top.data\n",
        "      self.top = self.top.next\n",
        "      return data\n",
        "    \n",
        "  def traverse(self):\n",
        "    temp = self.top\n",
        "\n",
        "    while temp != None:\n",
        "      print (temp.data)\n",
        "      temp = temp.next\n"
      ],
      "metadata": {
        "id": "46NdRAIJIPuI"
      },
      "execution_count": null,
      "outputs": []
    },
    {
      "cell_type": "code",
      "source": [
        "s= Stack()"
      ],
      "metadata": {
        "id": "z4dC12pHJfrg"
      },
      "execution_count": null,
      "outputs": []
    },
    {
      "cell_type": "code",
      "source": [
        "s.isEmpty()"
      ],
      "metadata": {
        "colab": {
          "base_uri": "https://localhost:8080/"
        },
        "id": "1hM3LThiJ18a",
        "outputId": "4652707a-f6f0-49a8-ad72-28f796b727fa"
      },
      "execution_count": null,
      "outputs": [
        {
          "output_type": "execute_result",
          "data": {
            "text/plain": [
              "True"
            ]
          },
          "metadata": {},
          "execution_count": 21
        }
      ]
    },
    {
      "cell_type": "code",
      "source": [
        "s.push(1)"
      ],
      "metadata": {
        "id": "nUxGEazzJ3vl"
      },
      "execution_count": null,
      "outputs": []
    },
    {
      "cell_type": "code",
      "source": [
        "s.isEmpty()"
      ],
      "metadata": {
        "colab": {
          "base_uri": "https://localhost:8080/"
        },
        "id": "Tp5pLJ5OJ5RP",
        "outputId": "9a789e76-009b-463f-e50a-ff63013609d5"
      },
      "execution_count": null,
      "outputs": [
        {
          "output_type": "execute_result",
          "data": {
            "text/plain": [
              "False"
            ]
          },
          "metadata": {},
          "execution_count": 23
        }
      ]
    },
    {
      "cell_type": "code",
      "source": [
        "s.push(2)"
      ],
      "metadata": {
        "id": "YWn0oHIKJ7kZ"
      },
      "execution_count": null,
      "outputs": []
    },
    {
      "cell_type": "code",
      "source": [
        "s.push(3)"
      ],
      "metadata": {
        "id": "GZAT6QYsKBZt"
      },
      "execution_count": null,
      "outputs": []
    },
    {
      "cell_type": "code",
      "source": [
        "s.traverse()"
      ],
      "metadata": {
        "colab": {
          "base_uri": "https://localhost:8080/"
        },
        "id": "x1JI_tSRKDRs",
        "outputId": "f5b884f6-0e2d-4b19-f992-10906c6723ca"
      },
      "execution_count": null,
      "outputs": [
        {
          "output_type": "stream",
          "name": "stdout",
          "text": [
            "3\n",
            "2\n",
            "1\n"
          ]
        }
      ]
    },
    {
      "cell_type": "code",
      "source": [
        "s.peek()"
      ],
      "metadata": {
        "colab": {
          "base_uri": "https://localhost:8080/"
        },
        "id": "maYsgO07KKBg",
        "outputId": "e68ebcb1-e6ea-48e6-b134-5229bdc1f231"
      },
      "execution_count": null,
      "outputs": [
        {
          "output_type": "execute_result",
          "data": {
            "text/plain": [
              "3"
            ]
          },
          "metadata": {},
          "execution_count": 27
        }
      ]
    },
    {
      "cell_type": "code",
      "source": [
        "s.pop()"
      ],
      "metadata": {
        "id": "RXP6MsWsK7iD"
      },
      "execution_count": null,
      "outputs": []
    },
    {
      "cell_type": "code",
      "source": [
        "s.peek()"
      ],
      "metadata": {
        "colab": {
          "base_uri": "https://localhost:8080/"
        },
        "id": "ocAzHo8SK9Wu",
        "outputId": "771011f1-fd79-47e1-f618-d0ac7ed95f90"
      },
      "execution_count": null,
      "outputs": [
        {
          "output_type": "execute_result",
          "data": {
            "text/plain": [
              "2"
            ]
          },
          "metadata": {},
          "execution_count": 29
        }
      ]
    },
    {
      "cell_type": "code",
      "source": [
        "s.pop()"
      ],
      "metadata": {
        "id": "eYo3StVKK-YC"
      },
      "execution_count": null,
      "outputs": []
    },
    {
      "cell_type": "code",
      "source": [
        "s.peek()"
      ],
      "metadata": {
        "colab": {
          "base_uri": "https://localhost:8080/"
        },
        "id": "BW_ehgfoK_ed",
        "outputId": "7afbcfbe-4601-4499-9b45-b764dd258590"
      },
      "execution_count": null,
      "outputs": [
        {
          "output_type": "execute_result",
          "data": {
            "text/plain": [
              "1"
            ]
          },
          "metadata": {},
          "execution_count": 31
        }
      ]
    },
    {
      "cell_type": "code",
      "source": [
        "s.pop()"
      ],
      "metadata": {
        "id": "CV4UpnZpLAn4"
      },
      "execution_count": null,
      "outputs": []
    },
    {
      "cell_type": "code",
      "source": [
        "s.peek()"
      ],
      "metadata": {
        "colab": {
          "base_uri": "https://localhost:8080/",
          "height": 35
        },
        "id": "6l4cei6TLBuq",
        "outputId": "4e3d4097-97cb-4ed1-81ec-c0a621846bc0"
      },
      "execution_count": null,
      "outputs": [
        {
          "output_type": "execute_result",
          "data": {
            "text/plain": [
              "'Stack is empty'"
            ],
            "application/vnd.google.colaboratory.intrinsic+json": {
              "type": "string"
            }
          },
          "metadata": {},
          "execution_count": 33
        }
      ]
    },
    {
      "cell_type": "code",
      "source": [
        "def reverse_string(text):\n",
        "\n",
        "  s= Stack()\n",
        "\n",
        "  for i in text:\n",
        "    s.push(i)\n",
        "\n",
        "  res = ''\n",
        "\n",
        "  while(not s.isEmpty()):\n",
        "    res = res + s.pop()\n",
        "\n",
        "  print(res)"
      ],
      "metadata": {
        "id": "sRGjq2XDLC_8"
      },
      "execution_count": null,
      "outputs": []
    },
    {
      "cell_type": "code",
      "source": [
        "reverse_string('hello')"
      ],
      "metadata": {
        "colab": {
          "base_uri": "https://localhost:8080/"
        },
        "id": "htYAEwpeTZ_5",
        "outputId": "c41f4e22-4080-430a-e746-f383ec07d072"
      },
      "execution_count": null,
      "outputs": [
        {
          "output_type": "stream",
          "name": "stdout",
          "text": [
            "olleh\n"
          ]
        }
      ]
    },
    {
      "cell_type": "code",
      "source": [],
      "metadata": {
        "id": "JaGlCom5TbY3"
      },
      "execution_count": null,
      "outputs": []
    }
  ]
}