{
  "nbformat": 4,
  "nbformat_minor": 0,
  "metadata": {
    "colab": {
      "provenance": [],
      "authorship_tag": "ABX9TyO4k6N/5PpHw6u/iV6RAKuG",
      "include_colab_link": true
    },
    "kernelspec": {
      "name": "python3",
      "display_name": "Python 3"
    },
    "language_info": {
      "name": "python"
    }
  },
  "cells": [
    {
      "cell_type": "markdown",
      "metadata": {
        "id": "view-in-github",
        "colab_type": "text"
      },
      "source": [
        "<a href=\"https://colab.research.google.com/github/smriddhii/dataStructures/blob/main/Strings.ipynb\" target=\"_parent\"><img src=\"https://colab.research.google.com/assets/colab-badge.svg\" alt=\"Open In Colab\"/></a>"
      ]
    },
    {
      "cell_type": "code",
      "execution_count": 1,
      "metadata": {
        "colab": {
          "base_uri": "https://localhost:8080/"
        },
        "id": "vouMhMMs8QS5",
        "outputId": "250292e1-1407-4c74-8b06-73118d753112"
      },
      "outputs": [
        {
          "output_type": "stream",
          "name": "stdout",
          "text": [
            "97\n",
            "65\n",
            "a\n",
            "A\n"
          ]
        }
      ],
      "source": [
        "print(ord(\"a\"))     # chr to ord\n",
        "print(ord(\"A\"))\n",
        "print(chr(97))      # ord to chr\n",
        "print(chr(65))"
      ]
    },
    {
      "cell_type": "code",
      "source": [
        "s = \"geek\"\n",
        "\n",
        "print(s)\n",
        "print(s[0])\n",
        "print(s[-1])\n",
        "print(s[1])\n",
        "print(s[-2])"
      ],
      "metadata": {
        "colab": {
          "base_uri": "https://localhost:8080/"
        },
        "id": "-vTDGv0z9rD5",
        "outputId": "322f45a3-9678-490d-a70a-ccf83a754f8c"
      },
      "execution_count": 2,
      "outputs": [
        {
          "output_type": "stream",
          "name": "stdout",
          "text": [
            "geek\n",
            "g\n",
            "k\n",
            "e\n",
            "e\n"
          ]
        }
      ]
    },
    {
      "cell_type": "code",
      "source": [
        "# multiline string-\n",
        "s = \"\"\" Hi,\n",
        "This is python course.\n",
        "Hope you are enjoying it. \"\"\"\n",
        "print(s)"
      ],
      "metadata": {
        "colab": {
          "base_uri": "https://localhost:8080/"
        },
        "id": "4nCCYyo_936N",
        "outputId": "c9d0a02e-88aa-47a6-e198-250b00264f42"
      },
      "execution_count": 3,
      "outputs": [
        {
          "output_type": "stream",
          "name": "stdout",
          "text": [
            " Hi,\n",
            "This is python course.\n",
            "Hope you are enjoying it. \n"
          ]
        }
      ]
    },
    {
      "cell_type": "code",
      "source": [
        "# escape sequences and raw strings-\n",
        "\n",
        "s=\"Hi \\nwelcome to the course\"\n",
        "print(s)"
      ],
      "metadata": {
        "colab": {
          "base_uri": "https://localhost:8080/"
        },
        "id": "d0zRU1vg99xb",
        "outputId": "8e92d20e-5fde-4d18-85f7-514ab2b1870e"
      },
      "execution_count": 4,
      "outputs": [
        {
          "output_type": "stream",
          "name": "stdout",
          "text": [
            "Hi \n",
            "welcome to the course\n"
          ]
        }
      ]
    },
    {
      "cell_type": "code",
      "source": [
        "s1=\"A simple \\ example\"\n",
        "print(s1)\n",
        "s2=\"Backslash at the end\\\\\"\n",
        "print(s2)\n",
        "s3=\"\\\\n\"\n",
        "print(s3)\n",
        "s4=\"\\\\t\"\n",
        "print(s4)"
      ],
      "metadata": {
        "colab": {
          "base_uri": "https://localhost:8080/"
        },
        "id": "AJ5nSUto_HmI",
        "outputId": "eca47a57-8ede-492f-8ba4-ae267fa4839f"
      },
      "execution_count": 5,
      "outputs": [
        {
          "output_type": "stream",
          "name": "stdout",
          "text": [
            "A simple \\ example\n",
            "Backslash at the end\\\n",
            "\\n\n",
            "\\t\n"
          ]
        }
      ]
    },
    {
      "cell_type": "code",
      "source": [
        "s1=\"c:\\project\\name.py\"\n",
        "print(s1)\n",
        "\n",
        "s2=r\"c:\\project\\name.py\"\n",
        "print(s2)"
      ],
      "metadata": {
        "colab": {
          "base_uri": "https://localhost:8080/"
        },
        "id": "G22TplSa_NQT",
        "outputId": "a670bf95-fa47-4373-d35f-9cfcfbb37c2e"
      },
      "execution_count": 6,
      "outputs": [
        {
          "output_type": "stream",
          "name": "stdout",
          "text": [
            "c:\\project\n",
            "ame.py\n",
            "c:\\project\\name.py\n"
          ]
        }
      ]
    },
    {
      "cell_type": "code",
      "source": [
        "# string formatting-\n",
        "\n",
        "name = \"ABC\"\n",
        "\n",
        "course = \"Python Course\"\n",
        "\n",
        "s = \"Welcome %s to the %s\"%(name,course)\n",
        "print(s)\n",
        "print()\n",
        "###########\n",
        "# using format function\n",
        "\n",
        "s = \"welcome {0} to the {1}\".format(name,course)\n",
        "print(s)\n",
        "print()\n",
        "############################\n",
        "# using f-string\n",
        "\n",
        "s = f\"welcome {name} to the {course}\"\n",
        "print(s)\n",
        "print()"
      ],
      "metadata": {
        "colab": {
          "base_uri": "https://localhost:8080/"
        },
        "id": "kucITmtC_QT4",
        "outputId": "f8bf6a0c-0b5c-4bcd-ccdf-69206b778372"
      },
      "execution_count": 7,
      "outputs": [
        {
          "output_type": "stream",
          "name": "stdout",
          "text": [
            "Welcome ABC to the Python Course\n",
            "\n",
            "welcome ABC to the Python Course\n",
            "\n",
            "welcome ABC to the Python Course\n",
            "\n"
          ]
        }
      ]
    },
    {
      "cell_type": "code",
      "source": [
        "a = 10\n",
        "b = 20\n",
        "\n",
        "print(f\"sum of {a} and {b} is {a + b}\")\n",
        "print(f\"product of {a} and {b} is {a * b}\")\n",
        ""
      ],
      "metadata": {
        "colab": {
          "base_uri": "https://localhost:8080/"
        },
        "id": "z4BL4BIEAnDf",
        "outputId": "40749fe8-c2fb-4097-f6f8-806a65560110"
      },
      "execution_count": 8,
      "outputs": [
        {
          "output_type": "stream",
          "name": "stdout",
          "text": [
            "sum of 10 and 20 is 30\n",
            "product of 10 and 20 is 200\n"
          ]
        }
      ]
    },
    {
      "cell_type": "code",
      "source": [
        "# string comparisons-\n",
        "s1 = \"geeksforgeeks\"\n",
        "\n",
        "s2 = \"ide\"\n",
        "\n",
        "print(s1<s2)\n",
        "print(s1<=s2)\n",
        "print(s1>s2)\n",
        "print(s1>=s2)\n",
        "print(s1==s2)\n",
        "print(s1 != s2)\n",
        "\n",
        "\n",
        "print(\"#############\")\n",
        "\n",
        "print(\"abcd > abc \",\"abcd\">\"abc\")\n",
        "print(\"ZAB>ABC\",\"ZAB\">\"ABC\")\n",
        "\n",
        "print(\"abc>ABC\",\"abc\">\"ABC\")\n",
        "\n",
        "print(\"x>abcd\",\"x\">\"abcd\")"
      ],
      "metadata": {
        "colab": {
          "base_uri": "https://localhost:8080/"
        },
        "id": "TS4IwtQYAraD",
        "outputId": "911e5bf9-4fdd-401b-f14d-17d0370c7488"
      },
      "execution_count": 9,
      "outputs": [
        {
          "output_type": "stream",
          "name": "stdout",
          "text": [
            "True\n",
            "True\n",
            "False\n",
            "False\n",
            "False\n",
            "True\n",
            "#############\n",
            "abcd > abc  True\n",
            "ZAB>ABC True\n",
            "abc>ABC True\n",
            "x>abcd True\n"
          ]
        }
      ]
    },
    {
      "cell_type": "code",
      "source": [
        "# substrings-\n",
        "s1 = \"geeksforgeeks\"\n",
        "s2 = \"geeks\"\n",
        "\n",
        "print(s2 in s1)\n",
        "print(s2 not in s1)"
      ],
      "metadata": {
        "colab": {
          "base_uri": "https://localhost:8080/"
        },
        "id": "yNLN3DH1B8FT",
        "outputId": "279c9b3f-ffc5-4853-e826-d8dc4566fedb"
      },
      "execution_count": 10,
      "outputs": [
        {
          "output_type": "stream",
          "name": "stdout",
          "text": [
            "True\n",
            "False\n"
          ]
        }
      ]
    },
    {
      "cell_type": "code",
      "source": [
        "# string concatenation\n",
        "s1 = \"geeks\"\n",
        "s2 = \"for\"\n",
        "s3 = s1 + s2\n",
        "\n",
        "s4 = \"welcome to \" + s1 + s2\n",
        "\n",
        "print(s3)\n",
        "print(s4)"
      ],
      "metadata": {
        "colab": {
          "base_uri": "https://localhost:8080/"
        },
        "id": "HjrGZUX-h1Vk",
        "outputId": "3f91da49-0591-4b28-aa31-555a952455a5"
      },
      "execution_count": 11,
      "outputs": [
        {
          "output_type": "stream",
          "name": "stdout",
          "text": [
            "geeksfor\n",
            "welcome to geeksfor\n"
          ]
        }
      ]
    },
    {
      "cell_type": "code",
      "source": [
        "s1 = \"geeksforgeeks\"\n",
        "s2 = \"geeks\"\n",
        "\n",
        "print(s1.index(s2))         # gives first index of substring\n",
        "print(s1.rindex(s2))        # gives last index of substring\n",
        "print(s1.index(s2,1,13))    # start and end index of substring\n"
      ],
      "metadata": {
        "colab": {
          "base_uri": "https://localhost:8080/"
        },
        "id": "ElOu8cr_iB91",
        "outputId": "da973137-3b6a-49c9-b549-ab1d679a7e26"
      },
      "execution_count": 13,
      "outputs": [
        {
          "output_type": "stream",
          "name": "stdout",
          "text": [
            "0\n",
            "8\n",
            "8\n"
          ]
        }
      ]
    },
    {
      "cell_type": "code",
      "source": [
        "s1 = \"geeks\"\n",
        "\n",
        "print(len(s1))\n",
        "\n",
        "s2 = s1.upper()\n",
        "\n",
        "print(s2)\n",
        "\n",
        "s3 = s2.lower()\n",
        "\n",
        "print(s3)\n",
        "\n",
        "print(s1.islower())\n",
        "\n",
        "print(s2.isupper())"
      ],
      "metadata": {
        "colab": {
          "base_uri": "https://localhost:8080/"
        },
        "id": "9yfYSwfDiH-h",
        "outputId": "0f59e565-507a-4884-c652-ad3d91760670"
      },
      "execution_count": 1,
      "outputs": [
        {
          "output_type": "stream",
          "name": "stdout",
          "text": [
            "5\n",
            "GEEKS\n",
            "geeks\n",
            "True\n",
            "True\n"
          ]
        }
      ]
    },
    {
      "cell_type": "code",
      "source": [
        "s = \"GeeksforGeeks Python Course\"\n",
        "\n",
        "print(s.startswith(\"Geeks\"))\n",
        "\n",
        "print(s.endswith(\"Course\"))\n",
        "\n",
        "print(s.startswith(\"Geeks\", 1))     # start index\n",
        "\n",
        "print(s.startswith(\"Geeks\",8,len(s)))   # start index, last-index"
      ],
      "metadata": {
        "colab": {
          "base_uri": "https://localhost:8080/"
        },
        "id": "NlrF7zojD4nk",
        "outputId": "7feda9be-1077-4465-b957-b9713d14337c"
      },
      "execution_count": 2,
      "outputs": [
        {
          "output_type": "stream",
          "name": "stdout",
          "text": [
            "True\n",
            "True\n",
            "False\n",
            "True\n"
          ]
        }
      ]
    },
    {
      "cell_type": "code",
      "source": [
        "s1 = \"geeks for geeks\"\n",
        "\n",
        "print(s1.split())   # split by space ' '\n",
        "\n",
        "s2 = \"geeks, for, geeks\"\n",
        "print(s2.split(','))        # split by comma ','\n",
        "\n",
        "l = [\"geeksforgeeks\",\"python\",\"course\"]\n",
        "\n",
        "print(\" \".join(l))          # join by space\n",
        "\n",
        "print(\", \".join(l))         # join by comma"
      ],
      "metadata": {
        "colab": {
          "base_uri": "https://localhost:8080/"
        },
        "id": "XXM4RCj7D98k",
        "outputId": "1ef74342-1d29-41b8-cb9b-8911b58cab8f"
      },
      "execution_count": 3,
      "outputs": [
        {
          "output_type": "stream",
          "name": "stdout",
          "text": [
            "['geeks', 'for', 'geeks']\n",
            "['geeks', ' for', ' geeks']\n",
            "geeksforgeeks python course\n",
            "geeksforgeeks, python, course\n"
          ]
        }
      ]
    },
    {
      "cell_type": "code",
      "source": [
        "s1 = \"__geeksforgeeks__\"\n",
        "\n",
        "print(s1.strip(\"_\"))   # strip from both side\n",
        "\n",
        "\n",
        "print(s1.lstrip('_'))  # strip from left side\n",
        "\n",
        "\n",
        "print(s1.rstrip(\"_\"))   # strip from right side"
      ],
      "metadata": {
        "colab": {
          "base_uri": "https://localhost:8080/"
        },
        "id": "xRROhMOKEBKC",
        "outputId": "c748108a-e7db-4c6b-a715-35011fd1e7be"
      },
      "execution_count": 4,
      "outputs": [
        {
          "output_type": "stream",
          "name": "stdout",
          "text": [
            "geeksforgeeks\n",
            "geeksforgeeks__\n",
            "__geeksforgeeks\n"
          ]
        }
      ]
    },
    {
      "cell_type": "code",
      "source": [
        "s1 = \"geeks for geeks\"\n",
        "\n",
        "s2 = \"geeks\"\n",
        "\n",
        "print(s1.find(s2))\n",
        "\n",
        "print(s1.find(\"gfg\"))\n",
        "\n",
        "n = len(s1)\n",
        "\n",
        "print(s1.find(s2,1,n))"
      ],
      "metadata": {
        "colab": {
          "base_uri": "https://localhost:8080/"
        },
        "id": "n3I1qxhTEEGk",
        "outputId": "d1982e6b-fd6a-468a-b4e3-23589bcfb37b"
      },
      "execution_count": 5,
      "outputs": [
        {
          "output_type": "stream",
          "name": "stdout",
          "text": [
            "0\n",
            "-1\n",
            "10\n"
          ]
        }
      ]
    },
    {
      "cell_type": "code",
      "source": [
        "# reverse a string-\n",
        "def reverse(s):\n",
        "    str = \"\"\n",
        "    for i in s:\n",
        "        str = i + str\n",
        "    return str\n",
        "\n",
        "s = \"Geeksforgeeks\"\n",
        "\n",
        "print(\"The original string is : \")\n",
        "print(s)\n",
        "\n",
        "print(\"The reversed string(using loops) is : \")\n",
        "print(reverse(s))"
      ],
      "metadata": {
        "colab": {
          "base_uri": "https://localhost:8080/"
        },
        "id": "8PIgkT1GEGza",
        "outputId": "3a740fd0-ef7e-494d-80b6-2806db11f32e"
      },
      "execution_count": 6,
      "outputs": [
        {
          "output_type": "stream",
          "name": "stdout",
          "text": [
            "The original string is : \n",
            "Geeksforgeeks\n",
            "The reversed string(using loops) is : \n",
            "skeegrofskeeG\n"
          ]
        }
      ]
    },
    {
      "cell_type": "code",
      "source": [
        "#check if two strings are rotations of each other-\n",
        "def arerotations(s1,s2) :\n",
        "    if len(s1) != len(s2) :\n",
        "        return False\n",
        "    temp = ' '\n",
        "    temp = s1 + s1\n",
        "    return temp.find(s2)!= 1\n",
        "\n",
        "\n",
        "s1 = \"ABCD\"\n",
        "s2 = \"CDAB\"\n",
        "\n",
        "print(arerotations(s1,s2))"
      ],
      "metadata": {
        "colab": {
          "base_uri": "https://localhost:8080/"
        },
        "id": "IQPls0XzN2Jj",
        "outputId": "35f6149d-2cdb-47cf-da3c-e8adb44f5b8f"
      },
      "execution_count": 7,
      "outputs": [
        {
          "output_type": "stream",
          "name": "stdout",
          "text": [
            "True\n"
          ]
        }
      ]
    },
    {
      "cell_type": "code",
      "source": [
        "# pallindrome check in strings-\n",
        "def isPalindrome(s):\n",
        "    return s == s[::-1]\n",
        "\n",
        "\n",
        "# Driver code\n",
        "s = \"malayalam\"\n",
        "ans = isPalindrome(s)\n",
        "\n",
        "if ans:\n",
        "    print(\"Yes\")\n",
        "else:\n",
        "    print(\"No\")"
      ],
      "metadata": {
        "colab": {
          "base_uri": "https://localhost:8080/"
        },
        "id": "6T05uPqZPGxS",
        "outputId": "edb9a3b2-8e90-49fd-9590-6bc69b5662be"
      },
      "execution_count": 8,
      "outputs": [
        {
          "output_type": "stream",
          "name": "stdout",
          "text": [
            "Yes\n"
          ]
        }
      ]
    },
    {
      "cell_type": "code",
      "source": [
        "# check if a string is a subsequence of another-\n",
        "def issubseq(s1,s2) :\n",
        "    i, j = 0, 0\n",
        "    while(i < len(s1) and j < len(s2)) :\n",
        "        if s1[i] == s2[j] :\n",
        "            j = j + 1\n",
        "        i += 1\n",
        "    if j == len(s2) :\n",
        "        return True\n",
        "    else :\n",
        "        return False\n",
        "\n",
        "s1 = \"ABCDEF\"\n",
        "s2 = \"ADE\"\n",
        "\n",
        "print(issubseq(s1,s2))"
      ],
      "metadata": {
        "colab": {
          "base_uri": "https://localhost:8080/"
        },
        "id": "1oPkMaIJPvzL",
        "outputId": "3634b40b-e071-42aa-87c0-58fb5df60d05"
      },
      "execution_count": 9,
      "outputs": [
        {
          "output_type": "stream",
          "name": "stdout",
          "text": [
            "True\n"
          ]
        }
      ]
    },
    {
      "cell_type": "code",
      "source": [
        "# check if strings are anagrams-\n",
        "s1= input(\"Enter a String:\\n\")\n",
        "s2= input(\"Enter a String:\\n\")\n",
        "\n",
        "def areAnagram(s1,s2):\n",
        "    if len(s1) != len(s2):\n",
        "        return False\n",
        "    s1=sorted(s1)\n",
        "    s2=sorted(s2)\n",
        "    return(s1==s2)\n",
        "\n",
        "areAnagram(s1,s2)"
      ],
      "metadata": {
        "colab": {
          "base_uri": "https://localhost:8080/"
        },
        "id": "-_3MCpmXQWN_",
        "outputId": "b43ada7b-3e31-4435-fa58-29eeb454e534"
      },
      "execution_count": 11,
      "outputs": [
        {
          "name": "stdout",
          "output_type": "stream",
          "text": [
            "Enter a String:\n",
            "heart\n",
            "Enter a String:\n",
            "earth\n"
          ]
        },
        {
          "output_type": "execute_result",
          "data": {
            "text/plain": [
              "True"
            ]
          },
          "metadata": {},
          "execution_count": 11
        }
      ]
    },
    {
      "cell_type": "code",
      "source": [
        "# leftmost repeating character-\n",
        "CHAR = 256\n",
        "def leftmost(st) :\n",
        "    vis = [False] * CHAR\n",
        "    res = -1\n",
        "    for i in range(len(st)-1,-1,-1) :\n",
        "        if (vis[ord(st[i])]==True) :\n",
        "            res = i\n",
        "        else :\n",
        "            vis[ord(st[i])] = True\n",
        "\n",
        "    return res\n",
        "\n",
        "st = \"abccbd\"\n",
        "print(leftmost(st))"
      ],
      "metadata": {
        "colab": {
          "base_uri": "https://localhost:8080/"
        },
        "id": "c91ilU4NR9hK",
        "outputId": "e4da647b-184f-4f03-e1e0-806e6aee00e2"
      },
      "execution_count": 12,
      "outputs": [
        {
          "output_type": "stream",
          "name": "stdout",
          "text": [
            "1\n"
          ]
        }
      ]
    },
    {
      "cell_type": "code",
      "source": [
        "#leftmost repeating char-\n",
        "def leftmost(st) :\n",
        "    for i in range(len(st)) :\n",
        "        for j in range(i+1 , len(st)) :\n",
        "            if st[i] == st[j] :\n",
        "                return i\n",
        "\n",
        "    return -1\n",
        "\n",
        "st = \"cabba\"\n",
        "print(leftmost(st))"
      ],
      "metadata": {
        "colab": {
          "base_uri": "https://localhost:8080/"
        },
        "id": "RpIfcuRrYP9k",
        "outputId": "37988f0a-441a-4779-dd88-ffa1d1f65885"
      },
      "execution_count": 13,
      "outputs": [
        {
          "output_type": "stream",
          "name": "stdout",
          "text": [
            "1\n"
          ]
        }
      ]
    },
    {
      "cell_type": "code",
      "source": [
        "# leftmost non repeating element-\n",
        "NO_OF_CHARS = 256\n",
        "\n",
        "def getCharCountArray(string):\n",
        "\tcount = [0] * NO_OF_CHARS\n",
        "\tfor i in string:\n",
        "\t\tcount[ord(i)]+= 1\n",
        "\treturn count\n",
        "\n",
        "def firstNonRepeating(string):\n",
        "\tcount = getCharCountArray(string)\n",
        "\tindex = -1\n",
        "\tk = 0\n",
        "\n",
        "\tfor i in string:\n",
        "\t\tif count[ord(i)] == 1:\n",
        "\t\t\tindex = k\n",
        "\t\t\tbreak\n",
        "\t\tk += 1\n",
        "\n",
        "\treturn index\n",
        "\n",
        "string = \"geeksforgeeks\"\n",
        "index = firstNonRepeating(string)\n",
        "if index == 1:\n",
        "\tprint (\"Either all characters are repeating or string is empty\")\n",
        "else:\n",
        "\tprint (\"First non-repeating character is\" , string[index])"
      ],
      "metadata": {
        "colab": {
          "base_uri": "https://localhost:8080/"
        },
        "id": "5x6cHzIgYVTF",
        "outputId": "bc7f65b5-398b-4a76-c24b-ee871ceab7a8"
      },
      "execution_count": 14,
      "outputs": [
        {
          "output_type": "stream",
          "name": "stdout",
          "text": [
            "First non-repeating character is f\n"
          ]
        }
      ]
    },
    {
      "cell_type": "code",
      "source": [],
      "metadata": {
        "id": "pDLA3FLYkc3M"
      },
      "execution_count": null,
      "outputs": []
    }
  ]
}