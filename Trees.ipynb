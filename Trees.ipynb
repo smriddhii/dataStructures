{
  "nbformat": 4,
  "nbformat_minor": 0,
  "metadata": {
    "colab": {
      "provenance": [],
      "authorship_tag": "ABX9TyOjxNlXs5berT/GCmQTRFwN",
      "include_colab_link": true
    },
    "kernelspec": {
      "name": "python3",
      "display_name": "Python 3"
    },
    "language_info": {
      "name": "python"
    }
  },
  "cells": [
    {
      "cell_type": "markdown",
      "metadata": {
        "id": "view-in-github",
        "colab_type": "text"
      },
      "source": [
        "<a href=\"https://colab.research.google.com/github/smriddhii/dataStructures/blob/main/Trees.ipynb\" target=\"_parent\"><img src=\"https://colab.research.google.com/assets/colab-badge.svg\" alt=\"Open In Colab\"/></a>"
      ]
    },
    {
      "cell_type": "code",
      "execution_count": 8,
      "metadata": {
        "colab": {
          "base_uri": "https://localhost:8080/"
        },
        "id": "7XqT8NZbSpj0",
        "outputId": "77ef7ce1-5697-4a8c-cb0b-4c9095e544fb"
      },
      "outputs": [
        {
          "output_type": "execute_result",
          "data": {
            "text/plain": [
              "4"
            ]
          },
          "metadata": {},
          "execution_count": 8
        }
      ],
      "source": [
        "\n",
        "class Node:\n",
        "\tdef __init__(self, key):\n",
        "\t\tself.left = None\n",
        "\t\tself.right = None\n",
        "\t\tself.data = key\n",
        "\n",
        "# inorder traversal -\n",
        "def printInorder(root):\n",
        "\n",
        "\tif root:\n",
        "\n",
        "\t\t# First recur on left child\n",
        "\t\tprintInorder(root.left)\n",
        "\n",
        "\t\t# then print the data of node\n",
        "\t\tprint(root.data),\n",
        "\n",
        "\t\t# now recur on right child\n",
        "\t\tprintInorder(root.right)\n",
        "\n",
        "# preorder traversal -\n",
        "def printPreorder(root):\n",
        "\n",
        "\tif root:\n",
        "\n",
        "\t\t# First print the data of node\n",
        "\t\tprint(root.data),\n",
        "\n",
        "\t\t# Then recur on left child\n",
        "\t\tprintPreorder(root.left)\n",
        "\n",
        "\t\t# Finally recur on right child\n",
        "\t\tprintPreorder(root.right)\n",
        "\n",
        "# postorder traversal -\n",
        "def printPostorder(root):\n",
        "\n",
        "\tif root:\n",
        "\n",
        "\t\t# First recur on left child\n",
        "\t\tprintPostorder(root.left)\n",
        "\n",
        "\t\t# the recur on right child\n",
        "\t\tprintPostorder(root.right)\n",
        "\n",
        "\t\t# now print the data of node\n",
        "\t\tprint(root.data)\n",
        "\n",
        "# height of tree-\n",
        "def height(root):\n",
        "        # code here\n",
        "        if root == None:\n",
        "            return 0\n",
        "        else:\n",
        "            lh = height(root.left)\n",
        "            rh = height(root.right)\n",
        "            return max(lh, rh) + 1\n",
        "\n",
        "# print nodes at distance k -\n",
        "def printKDistant(root, k):\n",
        "\n",
        "\tif root is None:\n",
        "\t\treturn\n",
        "\tif k == 0:\n",
        "\t\tprint (root.data,end=' ')\n",
        "\telse:\n",
        "\t\tprintKDistant(root.left, k-1)\n",
        "\t\tprintKDistant(root.right, k-1)\n",
        "\n",
        "# breadth first traversal -\n",
        "def breadthFirst(root):\n",
        "\tif root is None:\n",
        "\t\treturn\n",
        "\n",
        "\t# Create an empty queue\n",
        "\t# for level order traversal\n",
        "\tqueue = []\n",
        "\n",
        "\t# Enqueue Root and initialize height\n",
        "\tqueue.append(root)\n",
        "\n",
        "\twhile(len(queue) > 0):\n",
        "\n",
        "\t\t# Print front of queue and\n",
        "\t\t# remove it from queue\n",
        "\t\tprint(queue[0].data, end = \" \")\n",
        "\t\tnode = queue.pop(0)\n",
        "\n",
        "\t\t# Enqueue left child\n",
        "\t\tif node.left is not None:\n",
        "\t\t\tqueue.append(node.left)\n",
        "\n",
        "\t\t# Enqueue right child\n",
        "\t\tif node.right is not None:\n",
        "\t\t\tqueue.append(node.right)\n",
        "\n",
        "\n",
        "# size of tree -\n",
        "def size(root):\n",
        "\tif root is None:\n",
        "\t\treturn 0\n",
        "\telse:\n",
        "\t\treturn (size(root.left)+ 1 + size(root.right))\n",
        "\n",
        "\n",
        "# maximum in a binary tree -\n",
        "def getMax(root):\n",
        "\tif root == None:\n",
        "\t\treturn float('-inf')\n",
        "\telse:\n",
        "\t\tlm = getMax(root.left)\n",
        "\t\trm = getMax(root.right)\n",
        "\t\treturn max(root.data, lm, rm)\n",
        "\n",
        "\n",
        "if __name__ == '__main__':\n",
        "\t# Create root\n",
        "\troot = Node(1)\n",
        "\troot.left = Node(2)\n",
        "\troot.right = Node(3)\n",
        "\troot.left.left = Node(4)\n",
        "\n",
        "\n",
        "#printInorder(root)\n",
        "#printPreorder(root)\n",
        "#printPostorder(root)\n",
        "#height(root)\n",
        "#printKDistant(root, 2)\n",
        "#breadthFirst(root)\n",
        "#size(root)\n",
        "getMax(root)"
      ]
    },
    {
      "cell_type": "code",
      "source": [],
      "metadata": {
        "id": "9YCv0P30S2Wc"
      },
      "execution_count": null,
      "outputs": []
    }
  ]
}