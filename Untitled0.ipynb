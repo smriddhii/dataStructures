{
  "nbformat": 4,
  "nbformat_minor": 0,
  "metadata": {
    "colab": {
      "provenance": [],
      "authorship_tag": "ABX9TyOOBYTzcprs/T9an3j21PK1",
      "include_colab_link": true
    },
    "kernelspec": {
      "name": "python3",
      "display_name": "Python 3"
    },
    "language_info": {
      "name": "python"
    }
  },
  "cells": [
    {
      "cell_type": "markdown",
      "metadata": {
        "id": "view-in-github",
        "colab_type": "text"
      },
      "source": [
        "<a href=\"https://colab.research.google.com/github/smriddhii/git_test/blob/main/Untitled0.ipynb\" target=\"_parent\"><img src=\"https://colab.research.google.com/assets/colab-badge.svg\" alt=\"Open In Colab\"/></a>"
      ]
    },
    {
      "cell_type": "code",
      "source": [
        "class node:\n",
        "  def __init__(self, value):\n",
        "    self.data = value\n",
        "    self.next = None\n"
      ],
      "metadata": {
        "id": "CaIUZuu9QQVK"
      },
      "execution_count": null,
      "outputs": []
    },
    {
      "cell_type": "code",
      "source": [
        "class LinkedList:\n",
        "\n",
        "  def __init__(self):\n",
        "     \n",
        "     ## Create an empty linked list- 0 nodes\n",
        "     self.head = None\n",
        "     self.n = 0 ## no of nodes in LL\n",
        "\n",
        "  def __len__(self):\n",
        "    return self.n\n",
        "\n",
        "  def insert_head(self, value):\n",
        "\n",
        "    # new node\n",
        "    new_Node = node(value)\n",
        "\n",
        "    # create connection\n",
        "    new_Node.next = self.head\n",
        "\n",
        "    # reassign head\n",
        "    self.head = new_Node\n",
        "\n",
        "    # increment n after each node\n",
        "    self.n = self.n + 1\n",
        "\n",
        "  def traverse(self):\n",
        "\n",
        "    curr = self.head\n",
        "    while curr != None:\n",
        "      print(curr.data)\n",
        "      curr = curr.next\n",
        "\n",
        "  def append(self,value):\n",
        "\n",
        "    new_node= node(value)\n",
        "\n",
        "    curr = self.head\n",
        "\n",
        "    while curr.next != None:\n",
        "      curr = curr.next\n",
        "\n",
        "    # you are at the last node\n",
        "    \n",
        "    curr.next = new_node\n",
        "\n",
        "  def insert_after(self, after, value):\n",
        "    new_Node = node(value)\n",
        "\n",
        "    curr = self.head\n",
        "\n",
        "    while curr != None:\n",
        "      if curr.data == after:\n",
        "        break\n",
        "      \n",
        "      curr = curr.next\n",
        "\n",
        "    if curr != None:\n",
        "      new_Node.next = curr.next\n",
        "      curr.next = new_Node\n",
        "    else:\n",
        "      return \"Item not found\"\n",
        "\n",
        "  def clear(self):\n",
        "    self.head = None\n",
        "    self.n = 0\n",
        "\n",
        "  def search(self,value):\n",
        "\n",
        "    curr = self.head\n",
        "    pos = 0\n",
        "\n",
        "    while curr != None:\n",
        "\n",
        "      if curr.data == value:\n",
        "        return pos\n",
        "      curr = curr.next\n",
        "      pos = pos + 1\n",
        "      \n",
        "    return 'Not Found'\n",
        "\n",
        "  def delete(self, value):\n",
        "    curr = self.head\n",
        "    while curr != None:\n",
        "          prev = curr\n",
        "          curr = curr.next\n",
        "          prev.next = None\n",
        "\n",
        "\n",
        "\n",
        "\n",
        "\n"
      ],
      "metadata": {
        "id": "p5UA5_hdQkcv"
      },
      "execution_count": null,
      "outputs": []
    },
    {
      "cell_type": "code",
      "source": [
        "L = LinkedList()"
      ],
      "metadata": {
        "id": "IM5AqtCQRFUB"
      },
      "execution_count": null,
      "outputs": []
    },
    {
      "cell_type": "code",
      "source": [
        "L.insert_head(1)\n",
        "L.insert_head(2)\n",
        "L.insert_head(3)\n",
        "L.insert_head(4)"
      ],
      "metadata": {
        "id": "gLgUik9URKIJ"
      },
      "execution_count": null,
      "outputs": []
    },
    {
      "cell_type": "code",
      "source": [
        "L.insert_after(2, 200)"
      ],
      "metadata": {
        "id": "gRhWXguD1ea0"
      },
      "execution_count": null,
      "outputs": []
    },
    {
      "cell_type": "code",
      "source": [
        "len(L)"
      ],
      "metadata": {
        "colab": {
          "base_uri": "https://localhost:8080/"
        },
        "id": "vMB4zms2RL8h",
        "outputId": "4642fd8f-d46d-484f-cfef-02d3d4e3029a"
      },
      "execution_count": null,
      "outputs": [
        {
          "output_type": "execute_result",
          "data": {
            "text/plain": [
              "4"
            ]
          },
          "metadata": {},
          "execution_count": 20
        }
      ]
    },
    {
      "cell_type": "code",
      "source": [
        "L.traverse()"
      ],
      "metadata": {
        "id": "qrEJXYf_Rtx5",
        "colab": {
          "base_uri": "https://localhost:8080/"
        },
        "outputId": "3d6b6677-5287-4701-89c1-5cfe2b80fa67"
      },
      "execution_count": null,
      "outputs": [
        {
          "output_type": "stream",
          "name": "stdout",
          "text": [
            "4\n",
            "3\n",
            "2\n",
            "200\n",
            "1\n"
          ]
        }
      ]
    },
    {
      "cell_type": "code",
      "source": [
        "L.search(200)"
      ],
      "metadata": {
        "colab": {
          "base_uri": "https://localhost:8080/"
        },
        "id": "bVvqek_7C8BG",
        "outputId": "00fca3c7-5764-432e-9678-18ce96d8de5c"
      },
      "execution_count": null,
      "outputs": [
        {
          "output_type": "execute_result",
          "data": {
            "text/plain": [
              "3"
            ]
          },
          "metadata": {},
          "execution_count": 23
        }
      ]
    },
    {
      "cell_type": "code",
      "source": [
        "L.delete(3)"
      ],
      "metadata": {
        "id": "uz7VdpCSETJb"
      },
      "execution_count": null,
      "outputs": []
    },
    {
      "cell_type": "code",
      "source": [
        "L.traverse()"
      ],
      "metadata": {
        "colab": {
          "base_uri": "https://localhost:8080/"
        },
        "id": "Rc6DZ3K7HvHp",
        "outputId": "b7d52b9b-392d-4cf7-eda2-dfefed5ead5c"
      },
      "execution_count": null,
      "outputs": [
        {
          "output_type": "stream",
          "name": "stdout",
          "text": [
            "4\n"
          ]
        }
      ]
    },
    {
      "cell_type": "code",
      "source": [],
      "metadata": {
        "id": "cgmbaWThHw_z"
      },
      "execution_count": null,
      "outputs": []
    }
  ]
}